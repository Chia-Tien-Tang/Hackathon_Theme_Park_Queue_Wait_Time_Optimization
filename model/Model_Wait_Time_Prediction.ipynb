{
 "cells": [
  {
   "cell_type": "code",
   "execution_count": 1,
   "id": "a06e20f1",
   "metadata": {
    "colab": {
     "base_uri": "https://localhost:8080/"
    },
    "id": "a06e20f1",
    "outputId": "2691434f-996f-48e1-b075-ef8879e1a2ae"
   },
   "outputs": [],
   "source": [
    "import numpy as np\n",
    "import pandas as pd\n",
    "import os\n",
    "import matplotlib.pyplot as plt\n",
    "import seaborn as sns\n",
    "\n",
    "# Additional Library\n",
    "import matplotlib.dates as mdates"
   ]
  },
  {
   "cell_type": "code",
   "execution_count": 2,
   "id": "81f0c1d8",
   "metadata": {
    "colab": {
     "base_uri": "https://localhost:8080/",
     "height": 35
    },
    "id": "81f0c1d8",
    "outputId": "7ff37473-6b7b-4ff3-e794-579cb6f2433c"
   },
   "outputs": [
    {
     "data": {
      "text/plain": [
       "'/Users/Wayne/Desktop/CentraleSupelec & ESSEC/Lecture/M2/M2_T2/Hackathon'"
      ]
     },
     "execution_count": 2,
     "metadata": {},
     "output_type": "execute_result"
    }
   ],
   "source": [
    "path = os.getcwd()\n",
    "path"
   ]
  },
  {
   "cell_type": "code",
   "execution_count": 3,
   "id": "d5a081f3",
   "metadata": {
    "colab": {
     "base_uri": "https://localhost:8080/"
    },
    "id": "d5a081f3",
    "outputId": "09da43be-ad31-47dc-ad22-d46a47392818"
   },
   "outputs": [
    {
     "name": "stderr",
     "output_type": "stream",
     "text": [
      "/var/folders/1p/lfcd1twx1xnc84kx15cptk980000gn/T/ipykernel_44482/3461243975.py:1: DtypeWarning: Columns (32,33,34) have mixed types. Specify dtype option on import or set low_memory=False.\n",
      "  data = pd.read_csv(f\"{path}/final_merge_data.csv\")\n"
     ]
    }
   ],
   "source": [
    "data = pd.read_csv(f\"{path}/final_merge_data.csv\")"
   ]
  },
  {
   "cell_type": "code",
   "execution_count": 4,
   "id": "2c4494aa",
   "metadata": {
    "colab": {
     "base_uri": "https://localhost:8080/",
     "height": 446
    },
    "id": "2c4494aa",
    "outputId": "0243413f-3673-4ef0-a0df-eeebeef373cf"
   },
   "outputs": [
    {
     "data": {
      "text/html": [
       "<div>\n",
       "<style scoped>\n",
       "    .dataframe tbody tr th:only-of-type {\n",
       "        vertical-align: middle;\n",
       "    }\n",
       "\n",
       "    .dataframe tbody tr th {\n",
       "        vertical-align: top;\n",
       "    }\n",
       "\n",
       "    .dataframe thead th {\n",
       "        text-align: right;\n",
       "    }\n",
       "</style>\n",
       "<table border=\"1\" class=\"dataframe\">\n",
       "  <thead>\n",
       "    <tr style=\"text-align: right;\">\n",
       "      <th></th>\n",
       "      <th>WORK_DATE</th>\n",
       "      <th>DEB_TIME</th>\n",
       "      <th>DEB_TIME_HOUR</th>\n",
       "      <th>FIN_TIME</th>\n",
       "      <th>ENTITY_DESCRIPTION_SHORT</th>\n",
       "      <th>WAIT_TIME_MAX</th>\n",
       "      <th>NB_UNITS</th>\n",
       "      <th>GUEST_CARRIED</th>\n",
       "      <th>CAPACITY</th>\n",
       "      <th>ADJUST_CAPACITY</th>\n",
       "      <th>...</th>\n",
       "      <th>humidity</th>\n",
       "      <th>rain_1h</th>\n",
       "      <th>snow_1h</th>\n",
       "      <th>weather_main</th>\n",
       "      <th>weather_description</th>\n",
       "      <th>attendance</th>\n",
       "      <th>Unnamed: 0</th>\n",
       "      <th>NIGHT_SHOW</th>\n",
       "      <th>PARADE_1</th>\n",
       "      <th>PARADE_2</th>\n",
       "    </tr>\n",
       "  </thead>\n",
       "  <tbody>\n",
       "    <tr>\n",
       "      <th>0</th>\n",
       "      <td>2018-01-01</td>\n",
       "      <td>2018-01-01 19:30:00</td>\n",
       "      <td>19</td>\n",
       "      <td>2018-01-01 19:45:00.000</td>\n",
       "      <td>Bumper Cars</td>\n",
       "      <td>5</td>\n",
       "      <td>18.0</td>\n",
       "      <td>148.0</td>\n",
       "      <td>254.749</td>\n",
       "      <td>254.75</td>\n",
       "      <td>...</td>\n",
       "      <td>83</td>\n",
       "      <td>NaN</td>\n",
       "      <td>NaN</td>\n",
       "      <td>Clouds</td>\n",
       "      <td>few clouds</td>\n",
       "      <td>NaN</td>\n",
       "      <td>NaN</td>\n",
       "      <td>NaN</td>\n",
       "      <td>NaN</td>\n",
       "      <td>NaN</td>\n",
       "    </tr>\n",
       "    <tr>\n",
       "      <th>1</th>\n",
       "      <td>2018-01-01</td>\n",
       "      <td>2018-01-01 12:45:00</td>\n",
       "      <td>12</td>\n",
       "      <td>2018-01-01 13:00:00.000</td>\n",
       "      <td>Crazy Dance</td>\n",
       "      <td>5</td>\n",
       "      <td>1.0</td>\n",
       "      <td>46.0</td>\n",
       "      <td>250.001</td>\n",
       "      <td>250.00</td>\n",
       "      <td>...</td>\n",
       "      <td>93</td>\n",
       "      <td>0.92</td>\n",
       "      <td>NaN</td>\n",
       "      <td>Rain</td>\n",
       "      <td>light rain</td>\n",
       "      <td>NaN</td>\n",
       "      <td>NaN</td>\n",
       "      <td>NaN</td>\n",
       "      <td>NaN</td>\n",
       "      <td>NaN</td>\n",
       "    </tr>\n",
       "    <tr>\n",
       "      <th>2</th>\n",
       "      <td>2018-01-01</td>\n",
       "      <td>2018-01-01 17:00:00</td>\n",
       "      <td>17</td>\n",
       "      <td>2018-01-01 17:15:00.000</td>\n",
       "      <td>Skyway</td>\n",
       "      <td>5</td>\n",
       "      <td>15.0</td>\n",
       "      <td>92.0</td>\n",
       "      <td>211.500</td>\n",
       "      <td>198.25</td>\n",
       "      <td>...</td>\n",
       "      <td>86</td>\n",
       "      <td>0.25</td>\n",
       "      <td>NaN</td>\n",
       "      <td>Rain</td>\n",
       "      <td>light rain</td>\n",
       "      <td>NaN</td>\n",
       "      <td>NaN</td>\n",
       "      <td>NaN</td>\n",
       "      <td>NaN</td>\n",
       "      <td>NaN</td>\n",
       "    </tr>\n",
       "    <tr>\n",
       "      <th>3</th>\n",
       "      <td>2018-01-01</td>\n",
       "      <td>2018-01-01 13:30:00</td>\n",
       "      <td>13</td>\n",
       "      <td>2018-01-01 13:45:00.000</td>\n",
       "      <td>Monorail</td>\n",
       "      <td>70</td>\n",
       "      <td>11.0</td>\n",
       "      <td>145.0</td>\n",
       "      <td>223.751</td>\n",
       "      <td>223.75</td>\n",
       "      <td>...</td>\n",
       "      <td>93</td>\n",
       "      <td>0.82</td>\n",
       "      <td>NaN</td>\n",
       "      <td>Rain</td>\n",
       "      <td>light rain</td>\n",
       "      <td>NaN</td>\n",
       "      <td>NaN</td>\n",
       "      <td>NaN</td>\n",
       "      <td>NaN</td>\n",
       "      <td>NaN</td>\n",
       "    </tr>\n",
       "    <tr>\n",
       "      <th>4</th>\n",
       "      <td>2018-01-01</td>\n",
       "      <td>2018-01-01 15:00:00</td>\n",
       "      <td>15</td>\n",
       "      <td>2018-01-01 15:15:00.000</td>\n",
       "      <td>Roller Coaster</td>\n",
       "      <td>20</td>\n",
       "      <td>2.0</td>\n",
       "      <td>51.0</td>\n",
       "      <td>75.000</td>\n",
       "      <td>75.00</td>\n",
       "      <td>...</td>\n",
       "      <td>85</td>\n",
       "      <td>2.34</td>\n",
       "      <td>NaN</td>\n",
       "      <td>Rain</td>\n",
       "      <td>moderate rain</td>\n",
       "      <td>NaN</td>\n",
       "      <td>NaN</td>\n",
       "      <td>NaN</td>\n",
       "      <td>NaN</td>\n",
       "      <td>NaN</td>\n",
       "    </tr>\n",
       "  </tbody>\n",
       "</table>\n",
       "<p>5 rows × 35 columns</p>\n",
       "</div>"
      ],
      "text/plain": [
       "    WORK_DATE             DEB_TIME  DEB_TIME_HOUR                 FIN_TIME  \\\n",
       "0  2018-01-01  2018-01-01 19:30:00             19  2018-01-01 19:45:00.000   \n",
       "1  2018-01-01  2018-01-01 12:45:00             12  2018-01-01 13:00:00.000   \n",
       "2  2018-01-01  2018-01-01 17:00:00             17  2018-01-01 17:15:00.000   \n",
       "3  2018-01-01  2018-01-01 13:30:00             13  2018-01-01 13:45:00.000   \n",
       "4  2018-01-01  2018-01-01 15:00:00             15  2018-01-01 15:15:00.000   \n",
       "\n",
       "  ENTITY_DESCRIPTION_SHORT  WAIT_TIME_MAX  NB_UNITS  GUEST_CARRIED  CAPACITY  \\\n",
       "0              Bumper Cars              5      18.0          148.0   254.749   \n",
       "1              Crazy Dance              5       1.0           46.0   250.001   \n",
       "2                   Skyway              5      15.0           92.0   211.500   \n",
       "3                 Monorail             70      11.0          145.0   223.751   \n",
       "4           Roller Coaster             20       2.0           51.0    75.000   \n",
       "\n",
       "   ADJUST_CAPACITY  ...  humidity  rain_1h  snow_1h  weather_main  \\\n",
       "0           254.75  ...        83      NaN      NaN        Clouds   \n",
       "1           250.00  ...        93     0.92      NaN          Rain   \n",
       "2           198.25  ...        86     0.25      NaN          Rain   \n",
       "3           223.75  ...        93     0.82      NaN          Rain   \n",
       "4            75.00  ...        85     2.34      NaN          Rain   \n",
       "\n",
       "   weather_description attendance  Unnamed: 0 NIGHT_SHOW PARADE_1  PARADE_2  \n",
       "0           few clouds        NaN         NaN        NaN      NaN       NaN  \n",
       "1           light rain        NaN         NaN        NaN      NaN       NaN  \n",
       "2           light rain        NaN         NaN        NaN      NaN       NaN  \n",
       "3           light rain        NaN         NaN        NaN      NaN       NaN  \n",
       "4        moderate rain        NaN         NaN        NaN      NaN       NaN  \n",
       "\n",
       "[5 rows x 35 columns]"
      ]
     },
     "execution_count": 4,
     "metadata": {},
     "output_type": "execute_result"
    }
   ],
   "source": [
    "data.head()"
   ]
  },
  {
   "cell_type": "code",
   "execution_count": 5,
   "id": "b9f5a03b",
   "metadata": {
    "colab": {
     "base_uri": "https://localhost:8080/"
    },
    "id": "b9f5a03b",
    "outputId": "197d6e5d-49ec-46b0-8f4d-08157cc7a702"
   },
   "outputs": [
    {
     "name": "stdout",
     "output_type": "stream",
     "text": [
      "<class 'pandas.core.frame.DataFrame'>\n",
      "RangeIndex: 1790295 entries, 0 to 1790294\n",
      "Data columns (total 35 columns):\n",
      " #   Column                    Dtype  \n",
      "---  ------                    -----  \n",
      " 0   WORK_DATE                 object \n",
      " 1   DEB_TIME                  object \n",
      " 2   DEB_TIME_HOUR             int64  \n",
      " 3   FIN_TIME                  object \n",
      " 4   ENTITY_DESCRIPTION_SHORT  object \n",
      " 5   WAIT_TIME_MAX             int64  \n",
      " 6   NB_UNITS                  float64\n",
      " 7   GUEST_CARRIED             float64\n",
      " 8   CAPACITY                  float64\n",
      " 9   ADJUST_CAPACITY           float64\n",
      " 10  OPEN_TIME                 int64  \n",
      " 11  UP_TIME                   int64  \n",
      " 12  DOWNTIME                  int64  \n",
      " 13  NB_MAX_UNIT               float64\n",
      " 14  REF_CLOSING_DESCRIPTION   float64\n",
      " 15  PARK                      object \n",
      " 16  YEAR                      int64  \n",
      " 17  DAY_OF_WEEK               object \n",
      " 18  date                      object \n",
      " 19  hour                      int64  \n",
      " 20  dt                        int64  \n",
      " 21  dt_iso                    object \n",
      " 22  temp                      float64\n",
      " 23  dew_point                 float64\n",
      " 24  feels_like                float64\n",
      " 25  humidity                  int64  \n",
      " 26  rain_1h                   float64\n",
      " 27  snow_1h                   float64\n",
      " 28  weather_main              object \n",
      " 29  weather_description       object \n",
      " 30  attendance                float64\n",
      " 31  Unnamed: 0                float64\n",
      " 32  NIGHT_SHOW                object \n",
      " 33  PARADE_1                  object \n",
      " 34  PARADE_2                  object \n",
      "dtypes: float64(13), int64(9), object(13)\n",
      "memory usage: 478.1+ MB\n"
     ]
    }
   ],
   "source": [
    "data.info()"
   ]
  },
  {
   "cell_type": "markdown",
   "id": "9ec364a1",
   "metadata": {
    "id": "9ec364a1"
   },
   "source": [
    "# Data Preprocessing"
   ]
  },
  {
   "cell_type": "code",
   "execution_count": 6,
   "id": "91fae821",
   "metadata": {
    "id": "91fae821"
   },
   "outputs": [],
   "source": [
    "df = data.drop([\"Unnamed: 0\", \"REF_CLOSING_DESCRIPTION\"], axis=1)"
   ]
  },
  {
   "cell_type": "code",
   "execution_count": 7,
   "id": "9b0e7962",
   "metadata": {
    "id": "9b0e7962"
   },
   "outputs": [],
   "source": [
    "# Remove null value and negative value in \"Attendance\"\n",
    "df = df[df[\"attendance\"].notnull()]\n",
    "df = df[df[\"attendance\"] >= 0]"
   ]
  },
  {
   "cell_type": "code",
   "execution_count": 8,
   "id": "907c1157",
   "metadata": {},
   "outputs": [],
   "source": [
    "# df = df[df['ADJUST_CAPACITY'] > 0]\n",
    "# df = df[df['GUEST_CARRIED'] > 0]\n",
    "\n",
    "# df['UTILIZATION'] = df['GUEST_CARRIED'] / df['ADJUST_CAPACITY']"
   ]
  },
  {
   "cell_type": "code",
   "execution_count": 9,
   "id": "acd1c5db",
   "metadata": {
    "id": "acd1c5db"
   },
   "outputs": [],
   "source": [
    "# Normally, NB_UNIT should not exceed NB_MAX_UNIT\n",
    "df = df[(df[\"NB_MAX_UNIT\"] - df[\"NB_UNITS\"]) >= 0]"
   ]
  },
  {
   "cell_type": "code",
   "execution_count": 10,
   "id": "5bde1e9b",
   "metadata": {
    "id": "5bde1e9b"
   },
   "outputs": [],
   "source": [
    "# Keep only data for \"PostAventura\"\n",
    "df = df[df[\"PARK\"] == \"PortAventura World\"]"
   ]
  },
  {
   "cell_type": "code",
   "execution_count": 11,
   "id": "71a10122",
   "metadata": {
    "id": "71a10122"
   },
   "outputs": [],
   "source": [
    "# Convert date columns to datetime\n",
    "df['WORK_DATE'] = pd.to_datetime(df['WORK_DATE'])\n",
    "df['DEB_TIME'] = pd.to_datetime(df['DEB_TIME'])\n",
    "df['FIN_TIME'] = pd.to_datetime(df['FIN_TIME'])"
   ]
  },
  {
   "cell_type": "code",
   "execution_count": 12,
   "id": "16fdd958",
   "metadata": {},
   "outputs": [],
   "source": [
    "# Clean Covid Time Data \n",
    "start_date = '2020-03-01'\n",
    "end_date = '2021-08-01'\n",
    "\n",
    "# Remove rows where WORK_DATE is within the specified range\n",
    "df = df[~((df['WORK_DATE'] >= start_date) & (df['WORK_DATE'] <= end_date))]"
   ]
  },
  {
   "cell_type": "code",
   "execution_count": 13,
   "id": "21446de7",
   "metadata": {
    "id": "21446de7"
   },
   "outputs": [],
   "source": [
    "# Fill nulls in weather columns\n",
    "df['rain_1h'] = df['rain_1h'].fillna(0)\n",
    "df['snow_1h'] = df['snow_1h'].fillna(0)"
   ]
  },
  {
   "cell_type": "code",
   "execution_count": 14,
   "id": "0ebbebbc",
   "metadata": {
    "id": "0ebbebbc"
   },
   "outputs": [],
   "source": [
    "# Create binary columns where the presence of any string indicates an event\n",
    "df['HAS_NIGHT_SHOW'] = df['NIGHT_SHOW'].notna().astype(int)\n",
    "df['HAS_PARADE_1'] = df['PARADE_1'].notna().astype(int)\n",
    "df['HAS_PARADE_2'] = df['PARADE_2'].notna().astype(int)\n",
    "\n",
    "# Drop the original columns\n",
    "df.drop(['NIGHT_SHOW', 'PARADE_1', 'PARADE_2'], axis=1, inplace=True)"
   ]
  },
  {
   "cell_type": "code",
   "execution_count": 15,
   "id": "52fa3e0a",
   "metadata": {
    "id": "52fa3e0a"
   },
   "outputs": [],
   "source": [
    "# Add \"Month\" and \"Minutes\" columns to df by extracting from \"DEB_TIME\" column\n",
    "df['month'] = df['DEB_TIME'].dt.month\n",
    "df['minutes'] = df['DEB_TIME'].dt.minute"
   ]
  },
  {
   "cell_type": "code",
   "execution_count": 16,
   "id": "58a6d659",
   "metadata": {
    "id": "58a6d659"
   },
   "outputs": [],
   "source": [
    "# Drop Unuseful Columns\n",
    "# For the problem \"feels_like\" temperature is more important than \"real\" temperature because people\n",
    "# will go out or not more depneds on feeling not real temperature\n",
    "cols_to_drop = [\"WORK_DATE\", \"DEB_TIME\", 'FIN_TIME', 'GUEST_CARRIED', 'CAPACITY', \"OPEN_TIME\", \"UP_TIME\", \n",
    "                \"DOWNTIME\", \"NB_MAX_UNIT\", \"PARK\", \"date\", \"hour\", 'dt', 'dt_iso', \"dew_point\", \"temp\"]\n",
    "\n",
    "df.drop(cols_to_drop, axis=1, inplace=True)"
   ]
  },
  {
   "cell_type": "code",
   "execution_count": 17,
   "id": "a1617b29",
   "metadata": {
    "id": "a1617b29"
   },
   "outputs": [],
   "source": [
    "# Rename column 'DEB_TIME_HOUR' to 'hour'\n",
    "df.rename(columns={'DEB_TIME_HOUR': 'hour'}, inplace=True)"
   ]
  },
  {
   "cell_type": "code",
   "execution_count": 18,
   "id": "423ffaad",
   "metadata": {
    "id": "423ffaad"
   },
   "outputs": [],
   "source": [
    "# Reorder columns and put 'WAIT_TIME_MAX' at the end\n",
    "df = df[['YEAR', 'month', 'DAY_OF_WEEK', 'hour', 'minutes', 'attendance', 'ENTITY_DESCRIPTION_SHORT', 'NB_UNITS',\n",
    "         'ADJUST_CAPACITY', 'weather_main', 'weather_description', 'feels_like', 'humidity', \n",
    "         'rain_1h', 'snow_1h','HAS_NIGHT_SHOW', 'HAS_PARADE_1', 'HAS_PARADE_2', 'WAIT_TIME_MAX']]\n",
    "\n",
    "# Convert all column names to lowercase\n",
    "df.columns = df.columns.str.lower()"
   ]
  },
  {
   "cell_type": "code",
   "execution_count": 19,
   "id": "7080cc23",
   "metadata": {},
   "outputs": [],
   "source": [
    "df.drop(\"year\", axis=1, inplace=True)"
   ]
  },
  {
   "cell_type": "code",
   "execution_count": 21,
   "id": "70df8826",
   "metadata": {
    "colab": {
     "base_uri": "https://localhost:8080/"
    },
    "id": "70df8826",
    "outputId": "7c4b62f9-6ac0-4946-a33f-d04f905af78b"
   },
   "outputs": [
    {
     "name": "stdout",
     "output_type": "stream",
     "text": [
      "<class 'pandas.core.frame.DataFrame'>\n",
      "Index: 914224 entries, 196490 to 1753099\n",
      "Data columns (total 18 columns):\n",
      " #   Column                    Non-Null Count   Dtype  \n",
      "---  ------                    --------------   -----  \n",
      " 0   month                     914224 non-null  int32  \n",
      " 1   day_of_week               914224 non-null  object \n",
      " 2   hour                      914224 non-null  int64  \n",
      " 3   minutes                   914224 non-null  int32  \n",
      " 4   attendance                914224 non-null  float64\n",
      " 5   entity_description_short  914224 non-null  object \n",
      " 6   nb_units                  914224 non-null  float64\n",
      " 7   adjust_capacity           914224 non-null  float64\n",
      " 8   weather_main              914224 non-null  object \n",
      " 9   weather_description       914224 non-null  object \n",
      " 10  feels_like                914224 non-null  float64\n",
      " 11  humidity                  914224 non-null  int64  \n",
      " 12  rain_1h                   914224 non-null  float64\n",
      " 13  snow_1h                   914224 non-null  float64\n",
      " 14  has_night_show            914224 non-null  int64  \n",
      " 15  has_parade_1              914224 non-null  int64  \n",
      " 16  has_parade_2              914224 non-null  int64  \n",
      " 17  wait_time_max             914224 non-null  int64  \n",
      "dtypes: float64(6), int32(2), int64(6), object(4)\n",
      "memory usage: 125.5+ MB\n"
     ]
    }
   ],
   "source": [
    "df.info()"
   ]
  },
  {
   "cell_type": "markdown",
   "id": "0c63e6a7",
   "metadata": {},
   "source": [
    "# Output Cleaned Data for Further Usage"
   ]
  },
  {
   "cell_type": "code",
   "execution_count": 102,
   "id": "ad386861",
   "metadata": {},
   "outputs": [],
   "source": [
    "# Save the DataFrame to a binary file (pickle format)\n",
    "df.to_pickle(f'{path}/pretrained_dataset.pkl')"
   ]
  },
  {
   "cell_type": "markdown",
   "id": "fd4eec52",
   "metadata": {},
   "source": [
    "# Correlation Matrix"
   ]
  },
  {
   "cell_type": "code",
   "execution_count": null,
   "id": "307ea707",
   "metadata": {},
   "outputs": [],
   "source": [
    "numerical_features = ['attendance', 'nb_units', 'adjust_capacity', 'feels_like', 'humidity', 'rain_1h', 'snow_1h']\n",
    "categorical_features = ['day_of_week', \"entity_description_short\", 'weather_main', 'weather_description']\n",
    "binary_features = ['has_night_show', 'has_parade_1', 'has_parade_2']\n",
    "time_features = ['month', 'hour', 'minutes']"
   ]
  },
  {
   "cell_type": "code",
   "execution_count": 54,
   "id": "4428fc4c",
   "metadata": {},
   "outputs": [
    {
     "data": {
      "image/png": "[encoded data removed]",
      "text/plain": [
       "<Figure size 1000x1000 with 2 Axes>"
      ]
     },
     "metadata": {},
     "output_type": "display_data"
    }
   ],
   "source": [
    "corr_matrix = df[numerical_features + time_features].corr()\n",
    "\n",
    "# Create a mask for the upper triangle\n",
    "mask = np.triu(np.ones_like(corr_matrix, dtype=bool))\n",
    "\n",
    "plt.figure(figsize=(10, 10))\n",
    "\n",
    "# Draw the heatmap with the mask and correct aspect ratio\n",
    "sns.heatmap(corr_matrix, mask=mask, annot=True, fmt=\".2f\", cmap='coolwarm', square=True, cbar_kws={\"shrink\": .5})\n",
    "\n",
    "plt.title('Feature Correlation Matrix - Lower Triangle')\n",
    "plt.show()"
   ]
  },
  {
   "cell_type": "markdown",
   "id": "55cd98cb",
   "metadata": {
    "id": "55cd98cb"
   },
   "source": [
    "# Train / Test Split"
   ]
  },
  {
   "cell_type": "code",
   "execution_count": 22,
   "id": "b4a67c6f",
   "metadata": {
    "id": "b4a67c6f"
   },
   "outputs": [],
   "source": [
    "from sklearn.model_selection import train_test_split\n",
    "from sklearn.metrics import mean_squared_error, mean_absolute_error, r2_score\n",
    "from sklearn.preprocessing import OneHotEncoder, StandardScaler\n",
    "from sklearn.compose import ColumnTransformer\n",
    "from sklearn.pipeline import Pipeline\n",
    "from sklearn.model_selection import cross_val_score"
   ]
  },
  {
   "cell_type": "code",
   "execution_count": 23,
   "id": "ae70096a",
   "metadata": {
    "id": "ae70096a"
   },
   "outputs": [],
   "source": [
    "# Define Evaluation Matrix\n",
    "def calculate_custom_accuracy(y_true, y_pred, threshold):\n",
    "    \"\"\"Calculate the custom accuracy based on a threshold.\"\"\"\n",
    "    differences = np.abs(y_true - y_pred)\n",
    "    accurate_predictions = differences <= threshold\n",
    "    accuracy = np.mean(accurate_predictions)\n",
    "    return accuracy"
   ]
  },
  {
   "cell_type": "code",
   "execution_count": 25,
   "id": "f95b56b6",
   "metadata": {
    "id": "f95b56b6"
   },
   "outputs": [],
   "source": [
    "# One-hot encode categorical variables\n",
    "one_hot_encoder = OneHotEncoder()\n",
    "\n",
    "# Standardize numerical variables\n",
    "standard_scaler = StandardScaler()\n",
    "\n",
    "preprocessor = ColumnTransformer(\n",
    "    transformers=[\n",
    "        ('cat', one_hot_encoder, categorical_features),\n",
    "        ('num', standard_scaler, numerical_features)\n",
    "    ],\n",
    "    remainder='passthrough'\n",
    ")\n",
    "\n",
    "X = df.drop('wait_time_max', axis=1)\n",
    "y = df['wait_time_max']"
   ]
  },
  {
   "cell_type": "code",
   "execution_count": 26,
   "id": "332a4cf0",
   "metadata": {
    "colab": {
     "base_uri": "https://localhost:8080/",
     "height": 339
    },
    "id": "332a4cf0",
    "outputId": "ed8f4ffb-0896-433f-afc3-2ea03db67bb6"
   },
   "outputs": [],
   "source": [
    "# Split the data into training and testing sets\n",
    "X_train, X_test, y_train, y_test = train_test_split(X, y, test_size=0.2, random_state=42)"
   ]
  },
  {
   "cell_type": "code",
   "execution_count": 27,
   "id": "6a8fcad2",
   "metadata": {
    "id": "6a8fcad2"
   },
   "outputs": [],
   "source": [
    "# Preprocess the data\n",
    "X_train_transformed = preprocessor.fit_transform(X_train)\n",
    "X_test_transformed = preprocessor.transform(X_test)"
   ]
  },
  {
   "cell_type": "markdown",
   "id": "051130ff",
   "metadata": {
    "id": "051130ff"
   },
   "source": [
    "# Baseline Model - Linear Regression"
   ]
  },
  {
   "cell_type": "code",
   "execution_count": 28,
   "id": "303f626a",
   "metadata": {
    "colab": {
     "base_uri": "https://localhost:8080/"
    },
    "id": "303f626a",
    "outputId": "a7d9c7af-0c07-4c4c-dc12-03b7e75b6401"
   },
   "outputs": [
    {
     "name": "stdout",
     "output_type": "stream",
     "text": [
      "Linear Regression RMSE: 15.71851047118056\n",
      "Linear Regression MAE: 10.867983207536538\n",
      "Linear Regression R²: 0.5295762477214077\n"
     ]
    }
   ],
   "source": [
    "from sklearn.linear_model import LinearRegression\n",
    "\n",
    "lr_pipeline = Pipeline([\n",
    "    ('preprocessor', preprocessor),\n",
    "    ('regressor', LinearRegression())\n",
    "])\n",
    "\n",
    "lr_pipeline.fit(X_train, y_train)\n",
    "y_pred_lr = lr_pipeline.predict(X_test)\n",
    "\n",
    "# Calculate evaluation metrics\n",
    "rmse_lr = np.sqrt(mean_squared_error(y_test, y_pred_lr))\n",
    "mae_lr = mean_absolute_error(y_test, y_pred_lr)\n",
    "r2_lr = r2_score(y_test, y_pred_lr)\n",
    "\n",
    "print(f\"Linear Regression RMSE: {rmse_lr}\")\n",
    "print(f\"Linear Regression MAE: {mae_lr}\")\n",
    "print(f\"Linear Regression R²: {r2_lr}\")"
   ]
  },
  {
   "cell_type": "code",
   "execution_count": 29,
   "id": "3c844e1c",
   "metadata": {
    "colab": {
     "base_uri": "https://localhost:8080/"
    },
    "id": "3c844e1c",
    "outputId": "57ed33f7-e333-4ec1-a16e-27994c348ee6"
   },
   "outputs": [
    {
     "name": "stdout",
     "output_type": "stream",
     "text": [
      "Custom Accuracy (within 5 minutes): 33.82%\n"
     ]
    }
   ],
   "source": [
    "accuracy_lr = calculate_custom_accuracy(y_test, y_pred_lr, threshold=5)\n",
    "\n",
    "print(f\"Custom Accuracy (within 5 minutes): {accuracy_lr * 100:.2f}%\")"
   ]
  },
  {
   "cell_type": "markdown",
   "id": "d2a629f1",
   "metadata": {},
   "source": [
    "# Logistic Regression"
   ]
  },
  {
   "cell_type": "code",
   "execution_count": 30,
   "id": "dffaf235",
   "metadata": {},
   "outputs": [
    {
     "name": "stderr",
     "output_type": "stream",
     "text": [
      "/Users/Wayne/anaconda3/lib/python3.11/site-packages/sklearn/linear_model/_logistic.py:460: ConvergenceWarning: lbfgs failed to converge (status=1):\n",
      "STOP: TOTAL NO. of ITERATIONS REACHED LIMIT.\n",
      "\n",
      "Increase the number of iterations (max_iter) or scale the data as shown in:\n",
      "    https://scikit-learn.org/stable/modules/preprocessing.html\n",
      "Please also refer to the documentation for alternative solver options:\n",
      "    https://scikit-learn.org/stable/modules/linear_model.html#logistic-regression\n",
      "  n_iter_i = _check_optimize_result(\n"
     ]
    }
   ],
   "source": [
    "from sklearn.linear_model import LogisticRegression\n",
    "\n",
    "# Assuming 'preprocessor' is defined elsewhere and suitable for your data\n",
    "logreg_pipeline = Pipeline([\n",
    "    ('preprocessor', preprocessor),\n",
    "    ('regressor', LogisticRegression(random_state=42))\n",
    "])\n",
    "\n",
    "logreg_pipeline.fit(X_train, y_train)\n",
    "y_pred_logreg = logreg_pipeline.predict(X_test)"
   ]
  },
  {
   "cell_type": "code",
   "execution_count": 31,
   "id": "5740ec34",
   "metadata": {},
   "outputs": [
    {
     "name": "stdout",
     "output_type": "stream",
     "text": [
      "Logistic Regression RMSE: 22.26958152412247\n",
      "Logistic Regression MAE: 13.886406519182914\n",
      "Logistic Regression R²: 0.05574220978776667\n",
      "Custom Accuracy (within 5 minutes): 47.84%\n"
     ]
    }
   ],
   "source": [
    "# Calculate evaluation metrics\n",
    "rmse_logreg = np.sqrt(mean_squared_error(y_test, y_pred_logreg))\n",
    "mae_logreg = mean_absolute_error(y_test, y_pred_logreg)\n",
    "r2_logreg = r2_score(y_test, y_pred_logreg)\n",
    "\n",
    "print(f\"Logistic Regression RMSE: {rmse_logreg}\")\n",
    "print(f\"Logistic Regression MAE: {mae_logreg}\")\n",
    "print(f\"Logistic Regression R²: {r2_logreg}\")\n",
    "\n",
    "accuracy_logreg = calculate_custom_accuracy(y_test, y_pred_logreg, threshold=5)\n",
    "\n",
    "print(f\"Custom Accuracy (within 5 minutes): {accuracy_logreg * 100:.2f}%\")"
   ]
  },
  {
   "cell_type": "markdown",
   "id": "d4f7dc0f",
   "metadata": {
    "id": "d4f7dc0f"
   },
   "source": [
    "# KNN"
   ]
  },
  {
   "cell_type": "code",
   "execution_count": null,
   "id": "0669b7a1",
   "metadata": {
    "id": "0669b7a1",
    "outputId": "8e27071d-ea6a-41b6-ac20-7e10fa3e8487"
   },
   "outputs": [],
   "source": [
    "from sklearn.neighbors import KNeighborsRegressor\n",
    "\n",
    "knn_pipeline = Pipeline([\n",
    "    ('preprocessor', preprocessor),\n",
    "    ('regressor', KNeighborsRegressor(n_neighbors=10))\n",
    "])\n",
    "\n",
    "knn_pipeline.fit(X_train, y_train)\n",
    "y_pred_knn = knn_pipeline.predict(X_test)\n",
    "\n",
    "# Calculate evaluation metrics\n",
    "rmse_knn = np.sqrt(mean_squared_error(y_test, y_pred_knn))\n",
    "mae_knn = mean_absolute_error(y_test, y_pred_knn)\n",
    "r2_knn = r2_score(y_test, y_pred_knn)\n",
    "\n",
    "print(f\"KNN Regression RMSE: {rmse_knn}\")\n",
    "print(f\"KNN Regression MAE: {mae_knn}\")\n",
    "print(f\"KNN Regression R²: {r2_knn}\")"
   ]
  },
  {
   "cell_type": "code",
   "execution_count": null,
   "id": "c87ee165",
   "metadata": {
    "id": "c87ee165",
    "outputId": "cc31015a-3710-456f-cb93-3195d21d9b5c"
   },
   "outputs": [],
   "source": [
    "accuracy_knn = calculate_custom_accuracy(y_test, y_pred_knn, threshold=5)\n",
    "\n",
    "print(f\"Custom Accuracy (within 5 minutes): {accuracy_knn * 100:.2f}%\")"
   ]
  },
  {
   "cell_type": "markdown",
   "id": "9ef71332",
   "metadata": {},
   "source": [
    "# Decision Tree"
   ]
  },
  {
   "cell_type": "code",
   "execution_count": 30,
   "id": "7bf90d7d",
   "metadata": {},
   "outputs": [],
   "source": [
    "from sklearn.tree import DecisionTreeRegressor\n",
    "\n",
    "# Define the pipeline\n",
    "dt_pipeline = Pipeline([\n",
    "    ('preprocessor', preprocessor),\n",
    "    ('regressor', DecisionTreeRegressor(random_state=42))\n",
    "])\n",
    "\n",
    "# Fit the model\n",
    "dt_pipeline.fit(X_train, y_train)\n",
    "\n",
    "# Predict on the test set\n",
    "y_pred_dt = dt_pipeline.predict(X_test)"
   ]
  },
  {
   "cell_type": "code",
   "execution_count": 96,
   "id": "1ef6a97d",
   "metadata": {},
   "outputs": [
    {
     "name": "stdout",
     "output_type": "stream",
     "text": [
      "Decision Tree Regression RMSE: 9.757001369266687\n",
      "Decision Tree Regression MAE: 4.037107932948673\n",
      "Decision Tree Regression R²: 0.8187411600860339\n",
      "Custom Accuracy (within 5 minutes): 89.51%\n"
     ]
    }
   ],
   "source": [
    "# Calculate evaluation metrics\n",
    "rmse_dt = np.sqrt(mean_squared_error(y_test, y_pred_dt))\n",
    "mae_dt = mean_absolute_error(y_test, y_pred_dt)\n",
    "r2_dt = r2_score(y_test, y_pred_dt)\n",
    "\n",
    "print(f\"Decision Tree Regression RMSE: {rmse_dt}\")\n",
    "print(f\"Decision Tree Regression MAE: {mae_dt}\")\n",
    "print(f\"Decision Tree Regression R²: {r2_dt}\")\n",
    "\n",
    "# If you have the custom accuracy function defined\n",
    "accuracy_dt = calculate_custom_accuracy(y_test, y_pred_dt, threshold=10)\n",
    "print(f\"Custom Accuracy (within 5 minutes): {accuracy_dt * 100:.2f}%\")"
   ]
  },
  {
   "cell_type": "code",
   "execution_count": 32,
   "id": "f0b54182",
   "metadata": {},
   "outputs": [
    {
     "name": "stdout",
     "output_type": "stream",
     "text": [
      "attendance: 0.13939247714880384\n",
      "entity_description_short_Spiral Slide: 0.12050723460378454\n",
      "nb_units: 0.07976421687101948\n",
      "entity_description_short_Free Fall: 0.0731762490079931\n",
      "entity_description_short_Swing Ride: 0.0722528829114575\n",
      "entity_description_short_Giant Wheel: 0.0679134716675247\n",
      "feels_like: 0.04966393965168636\n",
      "adjust_capacity: 0.04640034334475601\n",
      "humidity: 0.028539325720142433\n",
      "entity_description_short_Go-Karts: 0.012953139247661711\n",
      "entity_description_short_Oz Theatre: 0.0067932737607378415\n",
      "rain_1h: 0.004541404011994475\n",
      "entity_description_short_Haunted House: 0.0044164938303494\n",
      "day_of_week_Sunday: 0.003953250094903164\n",
      "day_of_week_Saturday: 0.003942352360146653\n",
      "day_of_week_Friday: 0.003832389360127324\n",
      "day_of_week_Tuesday: 0.003164394652906207\n",
      "entity_description_short_Spinning Coaster: 0.0030717507213849035\n",
      "day_of_week_Monday: 0.002938230018298533\n",
      "weather_description_overcast clouds: 0.0028867127282536267\n",
      "day_of_week_Wednesday: 0.0028274915198800445\n",
      "weather_description_broken clouds: 0.002743657100212809\n",
      "entity_description_short_Zipline: 0.00253606988530375\n",
      "day_of_week_Thursday: 0.0024789607538323356\n",
      "entity_description_short_Water Ride: 0.0023932686207877862\n",
      "weather_description_scattered clouds: 0.002162407570344163\n",
      "entity_description_short_Bungee Jump: 0.0018385647198419655\n",
      "entity_description_short_Inverted Coaster: 0.0017692859769495117\n",
      "entity_description_short_Rapids Ride: 0.00166993621618594\n",
      "entity_description_short_Kiddie Coaster: 0.0015621617029046347\n",
      "weather_main_Clouds: 0.0014931981848920123\n",
      "weather_description_few clouds: 0.001361550916775639\n",
      "entity_description_short_Giga Coaster: 0.0013441410602734092\n",
      "weather_description_sky is clear: 0.001288692330548111\n",
      "weather_main_Clear: 0.0012837066649091105\n",
      "entity_description_short_Superman Ride: 0.0011333541365101357\n",
      "entity_description_short_Drop Tower: 0.0010058119242005229\n",
      "entity_description_short_Merry Go Round: 0.0008656936347056166\n",
      "weather_main_Rain: 0.0008203713495730082\n",
      "weather_description_light rain: 0.0008128749402386698\n",
      "entity_description_short_Flying Coaster: 0.0007788505153852404\n",
      "entity_description_short_Roller Coaster: 0.0005010804126571705\n",
      "weather_description_moderate rain: 0.00031650701026410353\n",
      "snow_1h: 0.00015254772005658722\n",
      "entity_description_short_Dizzy Dropper: 7.223735882438525e-05\n",
      "entity_description_short_Bumper Cars: 6.881657858192885e-05\n",
      "entity_description_short_Himalaya Ride: 4.3090925673930034e-05\n",
      "entity_description_short_Circus Train: 3.503287239420292e-05\n",
      "weather_description_light snow: 2.4619441095314336e-05\n",
      "weather_main_Snow: 1.808392755988e-05\n",
      "entity_description_short_Vertical Drop: 1.7704559604204266e-05\n",
      "weather_description_snow: 9.985071468982928e-06\n",
      "entity_description_short_Crazy Dance: 9.216408909863463e-06\n",
      "weather_description_heavy intensity rain: 5.5817337740487215e-06\n"
     ]
    }
   ],
   "source": [
    "feature_names_transformed = []\n",
    "\n",
    "# Extracting categories for one-hot encoded features\n",
    "categories = dt_pipeline.named_steps['preprocessor'].named_transformers_['cat'].categories_\n",
    "for original_feature, categories_for_feature in zip(categorical_features, categories):\n",
    "    feature_names_transformed.extend([f\"{original_feature}_{category}\" for category in categories_for_feature])\n",
    "\n",
    "# Including numerical features (assuming they're passed through without changes)\n",
    "feature_names_transformed.extend(numerical_features)\n",
    "\n",
    "# Extracting feature importances from the DecisionTreeRegressor within the pipeline\n",
    "feature_importances = dt_pipeline.named_steps['regressor'].feature_importances_\n",
    "\n",
    "# Pairing each transformed feature name with its corresponding importance\n",
    "importances = dict(zip(feature_names_transformed, feature_importances))\n",
    "\n",
    "# Sorting the features by their importance\n",
    "sorted_importances = sorted(importances.items(), key=lambda x: x[1], reverse=True)\n",
    "\n",
    "# Printing the sorted feature importances\n",
    "for feature, importance in sorted_importances:\n",
    "    print(f\"{feature}: {importance}\")"
   ]
  },
  {
   "cell_type": "markdown",
   "id": "26cd194c",
   "metadata": {},
   "source": [
    "### Confusion Matrix for Regression"
   ]
  },
  {
   "cell_type": "code",
   "execution_count": 33,
   "id": "ebca44b9",
   "metadata": {},
   "outputs": [
    {
     "data": {
      "image/png": "[encoded data removed]",
      "text/plain": [
       "<Figure size 640x480 with 1 Axes>"
      ]
     },
     "metadata": {},
     "output_type": "display_data"
    }
   ],
   "source": [
    "plt.scatter(y_test, y_pred_dt)\n",
    "plt.xlabel('Actual Values')\n",
    "plt.ylabel('Predicted Values')\n",
    "plt.title('Actual vs. Predicted Values')\n",
    "plt.plot([y_test.min(), y_test.max()], [y_test.min(), y_test.max()], 'k--', lw=4)\n",
    "plt.show()"
   ]
  },
  {
   "cell_type": "code",
   "execution_count": 98,
   "id": "f93b247e",
   "metadata": {},
   "outputs": [
    {
     "data": {
      "image/png": "[encoded data removed]",
      "text/plain": [
       "<Figure size 1000x600 with 1 Axes>"
      ]
     },
     "metadata": {},
     "output_type": "display_data"
    }
   ],
   "source": [
    "# Define bins and labels\n",
    "bins = [0, 5, 10, 15, 30, 45, 60, 120, np.inf]\n",
    "labels = ['0-5', '5-10', '10-15', '15-30', '30-45', '45-60' , '60-120', '120+']\n",
    "\n",
    "# Categorize y_test into bins\n",
    "y_test_bins = pd.cut(y_test, bins=bins, labels=labels, right=False)\n",
    "\n",
    "# Create a DataFrame for easier handling\n",
    "df_comparison = pd.DataFrame({'Actual': y_test_bins, 'Predicted': y_pred_dt})\n",
    "\n",
    "# Calculate mean predicted value for each bin\n",
    "mean_predicted_per_bin = df_comparison.groupby('Actual')['Predicted'].mean()\n",
    "\n",
    "# Plotting\n",
    "plt.figure(figsize=(10, 6))\n",
    "mean_predicted_per_bin.plot(kind='bar')\n",
    "plt.xlabel('Actual Value Bins')\n",
    "plt.ylabel('Average Predicted Value')\n",
    "plt.title('Average Predicted Value by Actual Value Bins')\n",
    "plt.xticks(rotation=45)  # Rotate labels to make them readable\n",
    "plt.grid(axis='y')\n",
    "\n",
    "# Show plot\n",
    "plt.show()"
   ]
  },
  {
   "cell_type": "markdown",
   "id": "b834e881",
   "metadata": {},
   "source": [
    "### Bar Chart of Top Features"
   ]
  },
  {
   "cell_type": "code",
   "execution_count": 34,
   "id": "c4a061d8",
   "metadata": {},
   "outputs": [
    {
     "data": {
      "image/png": "[encoded data removed]",
      "text/plain": [
       "<Figure size 640x480 with 1 Axes>"
      ]
     },
     "metadata": {},
     "output_type": "display_data"
    }
   ],
   "source": [
    "top_features = pd.DataFrame(sorted_importances[:15], columns=['Feature', 'Importance'])\n",
    "top_features.plot(kind='barh', x='Feature', y='Importance', legend=None)\n",
    "plt.title('Top 15 Feature Importances')\n",
    "plt.gca().invert_yaxis()  # Invert y-axis to have the most important feature on top\n",
    "plt.show()"
   ]
  },
  {
   "cell_type": "markdown",
   "id": "fca48e17",
   "metadata": {
    "id": "fca48e17"
   },
   "source": [
    "# Random Forest"
   ]
  },
  {
   "cell_type": "code",
   "execution_count": null,
   "id": "342f7deb",
   "metadata": {
    "id": "342f7deb",
    "outputId": "87584c6b-e9a7-4f11-90ce-8f2331710874"
   },
   "outputs": [],
   "source": [
    "from sklearn.ensemble import RandomForestRegressor\n",
    "\n",
    "rf_pipeline = Pipeline([\n",
    "    ('preprocessor', preprocessor),\n",
    "    ('regressor', RandomForestRegressor(n_estimators=100, random_state=42))\n",
    "])\n",
    "\n",
    "# Train Random Forest model\n",
    "rf_pipeline.fit(X_train, y_train)\n",
    "y_pred_rf = rf_pipeline.predict(X_test)\n",
    "\n",
    "# Calculate evaluation metrics\n",
    "rmse_rf = np.sqrt(mean_squared_error(y_test, y_pred_rf))\n",
    "mae_rf = mean_absolute_error(y_test, y_pred_rf)\n",
    "r2_rf = r2_score(y_test, y_pred_rf)\n",
    "\n",
    "print(f\"Random Forest Regression RMSE: {rmse_rf}\")\n",
    "print(f\"Random Forest Regression MAE: {mae_rf}\")\n",
    "print(f\"Random Forest Regression R²: {r2_rf}\")"
   ]
  },
  {
   "cell_type": "code",
   "execution_count": null,
   "id": "e1cfe2fe",
   "metadata": {
    "id": "e1cfe2fe",
    "outputId": "8e70390f-fcc0-4df9-90f3-73af0725871d"
   },
   "outputs": [],
   "source": [
    "accuracy_rf = calculate_custom_accuracy(y_test, y_pred_rf, threshold=5)\n",
    "\n",
    "print(f\"Custom Accuracy (within 5 minutes): {accuracy_rf * 100:.2f}%\")"
   ]
  },
  {
   "cell_type": "code",
   "execution_count": null,
   "id": "f38316ea",
   "metadata": {
    "id": "f38316ea",
    "outputId": "94c482f0-40b6-47b4-88a3-3fc79db0e415"
   },
   "outputs": [],
   "source": [
    "feature_names_transformed = []\n",
    "\n",
    "# For one-hot encoded features\n",
    "categories = rf_pipeline.named_steps['preprocessor'].named_transformers_['cat'].categories_\n",
    "for original_feature, categories_for_feature in zip(categorical_features, categories):\n",
    "    feature_names_transformed.extend([f\"{original_feature}_{category}\" for category in categories_for_feature])\n",
    "\n",
    "# For numerical features (assuming they're passed through without changes)\n",
    "feature_names_transformed.extend(numerical_features)\n",
    "\n",
    "# Get feature importances\n",
    "feature_importances = rf_pipeline.named_steps['regressor'].feature_importances_\n",
    "\n",
    "# Create a dictionary to hold feature names and their importances\n",
    "importances = dict(zip(feature_names_transformed, feature_importances))\n",
    "\n",
    "# Sort the dictionary by importance\n",
    "sorted_importances = sorted(importances.items(), key=lambda x: x[1], reverse=True)\n",
    "\n",
    "# Print the sorted importances\n",
    "for feature, importance in sorted_importances:\n",
    "    print(f\"{feature}: {importance}\")"
   ]
  },
  {
   "cell_type": "markdown",
   "id": "636c884d",
   "metadata": {},
   "source": [
    "# XGBoost"
   ]
  },
  {
   "cell_type": "code",
   "execution_count": 52,
   "id": "9277d671",
   "metadata": {},
   "outputs": [],
   "source": [
    "from xgboost import XGBRegressor\n",
    "\n",
    "xgb_pipeline = Pipeline([\n",
    "    ('preprocessor', preprocessor),\n",
    "    ('regressor', XGBRegressor(n_estimators=500, learning_rate=0.1, random_state=42))\n",
    "])\n",
    "\n",
    "xgb_pipeline.fit(X_train, y_train)\n",
    "y_pred_xgb = xgb_pipeline.predict(X_test)"
   ]
  },
  {
   "cell_type": "code",
   "execution_count": 53,
   "id": "be50e142",
   "metadata": {
    "scrolled": true
   },
   "outputs": [
    {
     "name": "stdout",
     "output_type": "stream",
     "text": [
      "XGBoost RMSE: 11.520177639926326\n",
      "XGBoost MAE: 7.009554679579264\n",
      "XGBoost R²: 0.7274247774205767\n",
      "Custom Accuracy (within 5 minutes): 55.29%\n"
     ]
    }
   ],
   "source": [
    "# Calculate evaluation metrics\n",
    "rmse_xgb = np.sqrt(mean_squared_error(y_test, y_pred_xgb))\n",
    "mae_xgb = mean_absolute_error(y_test, y_pred_xgb)\n",
    "r2_xgb = r2_score(y_test, y_pred_xgb)\n",
    "\n",
    "print(f\"XGBoost RMSE: {rmse_xgb}\")\n",
    "print(f\"XGBoost MAE: {mae_xgb}\")\n",
    "print(f\"XGBoost R²: {r2_xgb}\")\n",
    "\n",
    "accuracy_xgb = calculate_custom_accuracy(y_test, y_pred_xgb, threshold=5)\n",
    "\n",
    "print(f\"Custom Accuracy (within 5 minutes): {accuracy_xgb * 100:.2f}%\")"
   ]
  },
  {
   "cell_type": "markdown",
   "id": "1c2a7335",
   "metadata": {},
   "source": [
    "# Catboost"
   ]
  },
  {
   "cell_type": "code",
   "execution_count": 74,
   "id": "d651f934",
   "metadata": {},
   "outputs": [],
   "source": [
    "from catboost import CatBoostRegressor\n",
    "\n",
    "catboost_pipeline = Pipeline([\n",
    "    ('preprocessor', preprocessor),\n",
    "    ('regressor', CatBoostRegressor(iterations=100, learning_rate=0.1, silent=True, random_state=42))\n",
    "])\n",
    "\n",
    "catboost_pipeline.fit(X_train, y_train)\n",
    "y_pred_catboost = catboost_pipeline.predict(X_test)"
   ]
  },
  {
   "cell_type": "code",
   "execution_count": 94,
   "id": "ae26c0f7",
   "metadata": {
    "scrolled": true
   },
   "outputs": [
    {
     "name": "stdout",
     "output_type": "stream",
     "text": [
      "Catboost Regression RMSE: 13.722135849955354\n",
      "Catboost Tree Regression MAE: 8.88969795688371\n",
      "Catboost Tree Regression R²: 0.6132668035704101\n",
      "Custom Accuracy (within 5 minutes): 45.33%\n"
     ]
    }
   ],
   "source": [
    "# Calculate evaluation metrics\n",
    "rmse_catboost = np.sqrt(mean_squared_error(y_test, y_pred_catboost))\n",
    "mae_catboost = mean_absolute_error(y_test, y_pred_catboost)\n",
    "r2_catboost = r2_score(y_test, y_pred_catboost)\n",
    "\n",
    "print(f\"Catboost Regression RMSE: {rmse_catboost}\")\n",
    "print(f\"Catboost Tree Regression MAE: {mae_catboost}\")\n",
    "print(f\"Catboost Tree Regression R²: {r2_catboost}\")\n",
    "\n",
    "accuracy_catboost = calculate_custom_accuracy(y_test, y_pred_catboost, threshold=5)\n",
    "print(f\"Custom Accuracy (within 5 minutes): {accuracy_catboost * 100:.2f}%\")"
   ]
  },
  {
   "cell_type": "markdown",
   "id": "6e780fbf",
   "metadata": {},
   "source": [
    "# Voting Regressor (Decision Tree / Random Forest)"
   ]
  },
  {
   "cell_type": "code",
   "execution_count": 54,
   "id": "a58caff5",
   "metadata": {},
   "outputs": [
    {
     "name": "stdout",
     "output_type": "stream",
     "text": [
      "Voting Regressor RMSE: 12.656291697096622\n",
      "Voting Regressor MAE: 5.296046667400489\n",
      "Voting Regressor R²: 0.6710113047004174\n"
     ]
    }
   ],
   "source": [
    "from sklearn.ensemble import VotingRegressor\n",
    "from sklearn.pipeline import make_pipeline\n",
    "\n",
    "# Define the individual regressors within their pipelines\n",
    "dt_regressor = make_pipeline(preprocessor, DecisionTreeRegressor(random_state=42))\n",
    "rf_regressor = make_pipeline(preprocessor, RandomForestRegressor(n_estimators=100, random_state=42))\n",
    "\n",
    "# Construct the VotingRegressor\n",
    "voting_regressor = VotingRegressor(\n",
    "    estimators=[\n",
    "        ('dt', dt_regressor),\n",
    "        ('rf', rf_regressor)\n",
    "    ]\n",
    ")\n",
    "\n",
    "# Fit the VotingRegressor to the training data\n",
    "voting_regressor.fit(X_train, y_train)\n",
    "\n",
    "# Predict on the test set\n",
    "y_pred_voting = voting_regressor.predict(X_test)\n",
    "\n",
    "# Calculate evaluation metrics for the VotingRegressor\n",
    "rmse_voting = np.sqrt(mean_squared_error(y_test, y_pred_voting))\n",
    "mae_voting = mean_absolute_error(y_test, y_pred_voting)\n",
    "r2_voting = r2_score(y_test, y_pred_voting)\n",
    "\n",
    "print(f\"Voting Regressor RMSE: {rmse_voting}\")\n",
    "print(f\"Voting Regressor MAE: {mae_voting}\")\n",
    "print(f\"Voting Regressor R²: {r2_voting}\")"
   ]
  },
  {
   "cell_type": "code",
   "execution_count": 55,
   "id": "ac154b3b",
   "metadata": {},
   "outputs": [
    {
     "name": "stdout",
     "output_type": "stream",
     "text": [
      "Custom Accuracy (within 5 minutes): 74.15%\n"
     ]
    }
   ],
   "source": [
    "accuracy_voting = calculate_custom_accuracy(y_test, y_pred_voting, threshold=5)\n",
    "print(f\"Custom Accuracy (within 5 minutes): {accuracy_voting * 100:.2f}%\")"
   ]
  },
  {
   "cell_type": "markdown",
   "id": "1619f9bb",
   "metadata": {
    "id": "1619f9bb"
   },
   "source": [
    "# Neural Network"
   ]
  },
  {
   "cell_type": "code",
   "execution_count": 84,
   "id": "e85a1aaa",
   "metadata": {
    "id": "e85a1aaa"
   },
   "outputs": [],
   "source": [
    "import torch\n",
    "import torch.nn as nn\n",
    "import torch.nn.functional as F\n",
    "import torch.optim as optim\n",
    "from torch.utils.data import DataLoader, TensorDataset\n",
    "from torch.utils.data.dataset import random_split"
   ]
  },
  {
   "cell_type": "code",
   "execution_count": 58,
   "id": "yd6M6ges3tlt",
   "metadata": {
    "colab": {
     "base_uri": "https://localhost:8080/"
    },
    "id": "yd6M6ges3tlt",
    "outputId": "47672dda-33f7-4ee6-d630-36cb01911036"
   },
   "outputs": [
    {
     "name": "stdout",
     "output_type": "stream",
     "text": [
      "Using device: cuda\n"
     ]
    }
   ],
   "source": [
    "# Check if GPU is available and set the device accordingly\n",
    "device = torch.device(\"cuda\" if torch.cuda.is_available() else \"cpu\")\n",
    "print(\"Using device:\", device)"
   ]
  },
  {
   "cell_type": "markdown",
   "id": "vMneIGw6GD7Y",
   "metadata": {
    "id": "vMneIGw6GD7Y"
   },
   "source": [
    "## Simple NN"
   ]
  },
  {
   "cell_type": "code",
   "execution_count": 144,
   "id": "fec84a7d",
   "metadata": {
    "id": "fec84a7d"
   },
   "outputs": [],
   "source": [
    "# Convert datasets to PyTorch tensors\n",
    "X_train_tensor = torch.tensor(X_train_transformed.astype(np.float32))\n",
    "y_train_tensor = torch.tensor(y_train.values.astype(np.float32)).view(-1, 1)\n",
    "X_test_tensor = torch.tensor(X_test_transformed.astype(np.float32))\n",
    "y_test_tensor = torch.tensor(y_test.values.astype(np.float32)).view(-1, 1)\n",
    "\n",
    "# Create datasets and dataloaders\n",
    "train_dataset = TensorDataset(X_train_tensor, y_train_tensor)\n",
    "test_dataset = TensorDataset(X_test_tensor, y_test_tensor)\n",
    "\n",
    "# Define the split sizes. Let's say we want to use 20% of the training data for validation\n",
    "total_train_samples = len(train_dataset)\n",
    "val_size = int(0.2 * total_train_samples)\n",
    "train_size = total_train_samples - val_size\n",
    "\n",
    "# Split the dataset\n",
    "train_ds, val_ds = random_split(train_dataset, [train_size, val_size], generator = torch.Generator().manual_seed(42))\n",
    "\n",
    "# Define the DataLoaders for training, validation, and test sets\n",
    "train_loader = DataLoader(dataset=train_ds, batch_size=128, shuffle=True)\n",
    "val_loader = DataLoader(dataset=val_ds, batch_size=128, shuffle=False)\n",
    "test_loader = DataLoader(dataset=test_dataset, batch_size=128, shuffle=False)"
   ]
  },
  {
   "cell_type": "code",
   "execution_count": 195,
   "id": "YO5pcP2v446d",
   "metadata": {
    "id": "YO5pcP2v446d"
   },
   "outputs": [],
   "source": [
    "class RegressionModel(nn.Module):\n",
    "    def __init__(self, input_size, hidden_size):\n",
    "        super(RegressionModel, self).__init__()\n",
    "        self.fc1 = nn.Linear(input_size, hidden_size)\n",
    "        self.bn1 = nn.BatchNorm1d(hidden_size)\n",
    "        # self.dropout1 = nn.Dropout(0.1)\n",
    "\n",
    "        self.fc2 = nn.Linear(hidden_size, hidden_size//2)\n",
    "        self.bn2 = nn.BatchNorm1d(hidden_size//2)\n",
    "        # self.dropout2 = nn.Dropout(0.1)\n",
    "\n",
    "        self.fc3 = nn.Linear(hidden_size//2, hidden_size//4)\n",
    "        self.bn3 = nn.BatchNorm1d(hidden_size//4)\n",
    "        # self.dropout3 = nn.Dropout(0.1)\n",
    "\n",
    "        self.fc4 = nn.Linear(hidden_size//4, 1)\n",
    "\n",
    "        self.LeakyReLU = nn.LeakyReLU()\n",
    "\n",
    "    def forward(self, x):\n",
    "        x = self.LeakyReLU(self.bn1(self.fc1(x)))\n",
    "        # x = self.dropout1(x)\n",
    "        x = self.LeakyReLU(self.bn2(self.fc2(x)))\n",
    "        # x = self.dropout2(x)\n",
    "        x = self.LeakyReLU(self.bn3(self.fc3(x)))\n",
    "        # x = self.dropout3(x)\n",
    "        x = self.fc4(x)\n",
    "        return x"
   ]
  },
  {
   "cell_type": "code",
   "execution_count": 196,
   "id": "a313ab65",
   "metadata": {
    "id": "a313ab65"
   },
   "outputs": [],
   "source": [
    "model = RegressionModel(X_train_transformed.shape[1], hidden_size = 256).to(device)\n",
    "\n",
    "# Loss and optimizer\n",
    "criterion = nn.MSELoss()\n",
    "optimizer = optim.Adam(model.parameters(), lr=0.0001)"
   ]
  },
  {
   "cell_type": "code",
   "execution_count": 197,
   "id": "r9ZiFgR-_ixZ",
   "metadata": {
    "colab": {
     "base_uri": "https://localhost:8080/"
    },
    "id": "r9ZiFgR-_ixZ",
    "outputId": "1bd2ef47-2f93-4dcd-8d00-151419bd6244"
   },
   "outputs": [
    {
     "name": "stdout",
     "output_type": "stream",
     "text": [
      "Epoch [1/100], Training Loss: 1014.8007, Validation Loss: 969.6417\n",
      "Epoch [2/100], Training Loss: 1349.4746, Validation Loss: 953.3307\n",
      "Epoch [3/100], Training Loss: 713.8409, Validation Loss: 675.5169\n",
      "Epoch [4/100], Training Loss: 856.9788, Validation Loss: 645.7392\n",
      "Epoch [5/100], Training Loss: 581.4509, Validation Loss: 814.1269\n",
      "Epoch [6/100], Training Loss: 441.3726, Validation Loss: 499.7142\n",
      "Epoch [7/100], Training Loss: 306.1434, Validation Loss: 428.0274\n",
      "Epoch [8/100], Training Loss: 415.4288, Validation Loss: 426.9554\n",
      "Epoch [9/100], Training Loss: 382.0429, Validation Loss: 461.6227\n",
      "Epoch [10/100], Training Loss: 298.1849, Validation Loss: 371.0443\n",
      "Epoch [11/100], Training Loss: 343.0798, Validation Loss: 391.0786\n",
      "Epoch [12/100], Training Loss: 717.0828, Validation Loss: 454.7066\n",
      "Epoch [13/100], Training Loss: 391.2104, Validation Loss: 482.7536\n",
      "Epoch [14/100], Training Loss: 257.0495, Validation Loss: 521.1651\n",
      "Epoch [15/100], Training Loss: 343.2537, Validation Loss: 397.1289\n",
      "Epoch [16/100], Training Loss: 376.8983, Validation Loss: 427.5482\n",
      "Epoch [17/100], Training Loss: 380.4095, Validation Loss: 502.2742\n",
      "Epoch [18/100], Training Loss: 515.7650, Validation Loss: 477.6997\n",
      "Early stopping!\n"
     ]
    }
   ],
   "source": [
    "best_val_loss = float(\"inf\")\n",
    "patience = 8\n",
    "trigger_times = 0\n",
    "\n",
    "# Train the model\n",
    "num_epochs = 100\n",
    "for epoch in range(num_epochs):\n",
    "    model.train()  # Set the model to training mode\n",
    "    for inputs, targets in train_loader:\n",
    "        inputs, targets = inputs.to(device), targets.to(device)\n",
    "        # Forward pass\n",
    "        outputs = model(inputs)\n",
    "        loss = criterion(outputs, targets)\n",
    "\n",
    "        # Backward and optimize\n",
    "        optimizer.zero_grad()\n",
    "        loss.backward()\n",
    "        optimizer.step()\n",
    "\n",
    "    # Validation step\n",
    "    val_loss = 0.0\n",
    "    model.eval()  # Set the model to evaluation mode\n",
    "    with torch.no_grad():\n",
    "        for val_inputs, val_targets in val_loader:\n",
    "            val_inputs, val_targets = val_inputs.to(device), val_targets.to(device)\n",
    "            val_outputs = model(val_inputs)\n",
    "            val_loss += criterion(val_outputs, val_targets).item()\n",
    "    val_loss /= len(val_loader)\n",
    "\n",
    "    print(f'Epoch [{epoch+1}/{num_epochs}], Training Loss: {loss.item():.4f}, Validation Loss: {val_loss:.4f}')\n",
    "\n",
    "    # Early Stopping mechanism\n",
    "    if val_loss < best_val_loss:\n",
    "        best_val_loss = val_loss\n",
    "        trigger_times = 0\n",
    "    else:\n",
    "        trigger_times += 1\n",
    "        if trigger_times >= patience:\n",
    "            print('Early stopping!')\n",
    "            break  # Stop training"
   ]
  },
  {
   "cell_type": "code",
   "execution_count": 198,
   "id": "-rrQ_lVw_ocE",
   "metadata": {
    "colab": {
     "base_uri": "https://localhost:8080/"
    },
    "id": "-rrQ_lVw_ocE",
    "outputId": "c6ef42c8-8f47-4b0d-f598-b3d6a430ebb5"
   },
   "outputs": [
    {
     "name": "stdout",
     "output_type": "stream",
     "text": [
      "Deep Learning Model (PyTorch) RMSE: 22.00676727294922\n",
      "Deep Learning Model (PyTorch) MAE: 15.309794425964355\n",
      "Deep Learning Model (PyTorch) R²: 0.05303830034479884\n"
     ]
    }
   ],
   "source": [
    "# After training, evaluate the model's performance on the test set\n",
    "model.eval()  # Set the model to evaluation mode\n",
    "predictions = []\n",
    "with torch.no_grad():\n",
    "    for test_inputs, _ in test_loader:  # No need for targets here\n",
    "        test_inputs = test_inputs.to(device)\n",
    "        test_outputs = model(test_inputs)\n",
    "        predictions.append(test_outputs.cpu())  # Collect predictions\n",
    "predictions = torch.cat(predictions, dim=0)\n",
    "\n",
    "# Convert predictions and y_test to NumPy for evaluation metrics calculation\n",
    "predictions_np = predictions.numpy()\n",
    "y_test_np = y_test_tensor.numpy()\n",
    "\n",
    "# Calculate evaluation metrics\n",
    "rmse = np.sqrt(mean_squared_error(y_test_np, predictions_np))\n",
    "mae = mean_absolute_error(y_test_np, predictions_np)\n",
    "r2 = r2_score(y_test_np, predictions_np)\n",
    "\n",
    "print(f\"Deep Learning Model (PyTorch) RMSE: {rmse}\")\n",
    "print(f\"Deep Learning Model (PyTorch) MAE: {mae}\")\n",
    "print(f\"Deep Learning Model (PyTorch) R²: {r2}\")"
   ]
  },
  {
   "cell_type": "code",
   "execution_count": 199,
   "id": "aue-SsUc_6Vo",
   "metadata": {
    "colab": {
     "base_uri": "https://localhost:8080/"
    },
    "id": "aue-SsUc_6Vo",
    "outputId": "53d38df3-c074-444d-9075-d4f83e14d7ec"
   },
   "outputs": [
    {
     "name": "stdout",
     "output_type": "stream",
     "text": [
      "Custom Accuracy (within 5 minutes): 26.90%\n"
     ]
    }
   ],
   "source": [
    "accuracy_nn = calculate_custom_accuracy(y_test_np, predictions_np, threshold=5)\n",
    "print(f\"Custom Accuracy (within 5 minutes): {accuracy_nn * 100:.2f}%\")"
   ]
  },
  {
   "cell_type": "markdown",
   "id": "to3jH9BrIgjN",
   "metadata": {
    "id": "to3jH9BrIgjN"
   },
   "source": [
    "## Fully Connected Neural Network"
   ]
  },
  {
   "cell_type": "code",
   "execution_count": 237,
   "id": "1GhgRoarIhRb",
   "metadata": {
    "id": "1GhgRoarIhRb"
   },
   "outputs": [],
   "source": [
    "class FCNNRegression(nn.Module):\n",
    "    def __init__(self, input_features, output_dim=1):\n",
    "        super(FCNNRegression, self).__init__()\n",
    "        self.fc1 = nn.Linear(input_features, 512)\n",
    "        self.relu1 = nn.ReLU()\n",
    "        self.fc2 = nn.Linear(512, 256)\n",
    "        self.relu2 = nn.ReLU()\n",
    "        self.fc3 = nn.Linear(256, 128)\n",
    "        self.relu3 = nn.ReLU()\n",
    "        self.fc4 = nn.Linear(128, output_dim)\n",
    "\n",
    "        self.dropout1 = nn.Dropout(0.1)  # Added dropout for regularization\n",
    "        self.dropout2 = nn.Dropout(0.1)  # Added dropout for regularization\n",
    "        self.dropout3 = nn.Dropout(0.1)  # Added dropout for regularization\n",
    "\n",
    "    def forward(self, x):\n",
    "        x = self.relu1(self.fc1(x))\n",
    "        x = self.dropout1(x)\n",
    "        x = self.relu2(self.fc2(x))\n",
    "        x = self.dropout2(x)\n",
    "        x = self.relu3(self.fc3(x))\n",
    "        x = self.dropout3(x)\n",
    "        x = self.fc4(x)\n",
    "        return x"
   ]
  },
  {
   "cell_type": "code",
   "execution_count": 240,
   "id": "-rfpVUrKIkIm",
   "metadata": {
    "id": "-rfpVUrKIkIm"
   },
   "outputs": [],
   "source": [
    "# Assuming you know the number of features in your input data\n",
    "input_features = X_train_transformed.shape[1]\n",
    "model = FCNNRegression(input_features).to(device)\n",
    "\n",
    "# Loss and optimizer\n",
    "criterion = nn.MSELoss()\n",
    "optimizer = optim.Adam(model.parameters(), lr=0.001)"
   ]
  },
  {
   "cell_type": "code",
   "execution_count": 226,
   "id": "AockyT_8Izgj",
   "metadata": {
    "colab": {
     "base_uri": "https://localhost:8080/"
    },
    "id": "AockyT_8Izgj",
    "outputId": "ea99ce43-b857-41ea-e814-d43c77f7cbd7"
   },
   "outputs": [
    {
     "name": "stdout",
     "output_type": "stream",
     "text": [
      "Epoch [1/100], Training Loss: 337.2324, Validation Loss: 371.7150\n",
      "Epoch [2/100], Training Loss: 366.9820, Validation Loss: 399.1021\n",
      "Epoch [3/100], Training Loss: 801.0062, Validation Loss: 377.9130\n",
      "Epoch [4/100], Training Loss: 340.5701, Validation Loss: 382.1425\n",
      "Epoch [5/100], Training Loss: 356.3946, Validation Loss: 386.1535\n",
      "Epoch [6/100], Training Loss: 266.1385, Validation Loss: 379.5737\n",
      "Epoch [7/100], Training Loss: 388.7727, Validation Loss: 354.8846\n",
      "Epoch [8/100], Training Loss: 373.7204, Validation Loss: 375.6821\n",
      "Epoch [9/100], Training Loss: 412.2842, Validation Loss: 389.5251\n",
      "Epoch [10/100], Training Loss: 197.3150, Validation Loss: 372.4987\n",
      "Epoch [11/100], Training Loss: 311.9633, Validation Loss: 385.2521\n",
      "Epoch [12/100], Training Loss: 218.8393, Validation Loss: 376.0966\n",
      "Epoch [13/100], Training Loss: 271.4353, Validation Loss: 373.6968\n",
      "Epoch [14/100], Training Loss: 359.7141, Validation Loss: 357.9829\n",
      "Epoch [15/100], Training Loss: 333.9897, Validation Loss: 375.3983\n",
      "Epoch [16/100], Training Loss: 409.5836, Validation Loss: 374.5923\n",
      "Epoch [17/100], Training Loss: 253.9854, Validation Loss: 363.1958\n",
      "Epoch [18/100], Training Loss: 504.7614, Validation Loss: 360.4950\n",
      "Epoch [19/100], Training Loss: 481.3279, Validation Loss: 352.8364\n",
      "Epoch [20/100], Training Loss: 386.1772, Validation Loss: 361.3400\n",
      "Epoch [21/100], Training Loss: 347.7831, Validation Loss: 343.6055\n",
      "Epoch [22/100], Training Loss: 355.7333, Validation Loss: 354.6238\n",
      "Epoch [23/100], Training Loss: 281.5982, Validation Loss: 356.7593\n",
      "Epoch [24/100], Training Loss: 316.8563, Validation Loss: 363.3646\n",
      "Epoch [25/100], Training Loss: 266.9196, Validation Loss: 364.8601\n",
      "Epoch [26/100], Training Loss: 225.3310, Validation Loss: 396.3982\n",
      "Epoch [27/100], Training Loss: 1484.7190, Validation Loss: 347.1361\n",
      "Epoch [28/100], Training Loss: 339.7477, Validation Loss: 388.9717\n",
      "Epoch [29/100], Training Loss: 323.7366, Validation Loss: 366.8178\n",
      "Epoch [30/100], Training Loss: 267.1302, Validation Loss: 359.3974\n",
      "Epoch [31/100], Training Loss: 958.7044, Validation Loss: 372.3020\n",
      "Epoch [32/100], Training Loss: 515.8930, Validation Loss: 350.7080\n",
      "Epoch [33/100], Training Loss: 421.9504, Validation Loss: 381.9082\n",
      "Epoch [34/100], Training Loss: 251.5017, Validation Loss: 370.9033\n",
      "Epoch [35/100], Training Loss: 430.1957, Validation Loss: 373.1960\n",
      "Epoch [36/100], Training Loss: 545.4387, Validation Loss: 372.5706\n",
      "Epoch [37/100], Training Loss: 374.2038, Validation Loss: 369.7909\n",
      "Epoch [38/100], Training Loss: 336.3235, Validation Loss: 368.8257\n",
      "Epoch [39/100], Training Loss: 257.5068, Validation Loss: 355.7826\n",
      "Epoch [40/100], Training Loss: 296.9861, Validation Loss: 345.5643\n",
      "Epoch [41/100], Training Loss: 402.4814, Validation Loss: 369.9065\n",
      "Epoch [42/100], Training Loss: 293.3032, Validation Loss: 386.0518\n",
      "Epoch [43/100], Training Loss: 278.7388, Validation Loss: 353.6926\n",
      "Epoch [44/100], Training Loss: 357.1848, Validation Loss: 352.8256\n",
      "Epoch [45/100], Training Loss: 322.8540, Validation Loss: 335.2362\n",
      "Epoch [46/100], Training Loss: 262.6252, Validation Loss: 364.4623\n",
      "Epoch [47/100], Training Loss: 339.5878, Validation Loss: 363.4334\n",
      "Epoch [48/100], Training Loss: 502.5912, Validation Loss: 354.4930\n",
      "Epoch [49/100], Training Loss: 379.2408, Validation Loss: 398.4980\n",
      "Epoch [50/100], Training Loss: 479.9461, Validation Loss: 354.2735\n",
      "Epoch [51/100], Training Loss: 413.1311, Validation Loss: 370.8274\n",
      "Epoch [52/100], Training Loss: 288.8788, Validation Loss: 347.3484\n",
      "Epoch [53/100], Training Loss: 561.7732, Validation Loss: 392.7329\n",
      "Epoch [54/100], Training Loss: 260.9557, Validation Loss: 412.7395\n",
      "Epoch [55/100], Training Loss: 333.0325, Validation Loss: 363.2397\n",
      "Epoch [56/100], Training Loss: 485.8880, Validation Loss: 389.9403\n",
      "Epoch [57/100], Training Loss: 440.3923, Validation Loss: 367.1501\n",
      "Epoch [58/100], Training Loss: 348.5598, Validation Loss: 347.5219\n",
      "Epoch [59/100], Training Loss: 349.0453, Validation Loss: 377.1751\n",
      "Epoch [60/100], Training Loss: 415.8654, Validation Loss: 369.1749\n",
      "Epoch [61/100], Training Loss: 271.6448, Validation Loss: 364.7983\n",
      "Epoch [62/100], Training Loss: 197.7897, Validation Loss: 364.3076\n",
      "Epoch [63/100], Training Loss: 378.2424, Validation Loss: 351.3436\n",
      "Epoch [64/100], Training Loss: 138.2926, Validation Loss: 341.2674\n",
      "Epoch [65/100], Training Loss: 367.8014, Validation Loss: 340.0792\n",
      "Epoch [66/100], Training Loss: 435.9812, Validation Loss: 339.6685\n",
      "Epoch [67/100], Training Loss: 572.5099, Validation Loss: 350.2687\n",
      "Epoch [68/100], Training Loss: 254.9342, Validation Loss: 339.1802\n",
      "Epoch [69/100], Training Loss: 295.8338, Validation Loss: 341.7391\n",
      "Epoch [70/100], Training Loss: 479.7231, Validation Loss: 362.1035\n",
      "Epoch [71/100], Training Loss: 387.5340, Validation Loss: 338.6116\n",
      "Epoch [72/100], Training Loss: 464.8896, Validation Loss: 355.6872\n",
      "Epoch [73/100], Training Loss: 357.2293, Validation Loss: 331.9863\n",
      "Epoch [74/100], Training Loss: 522.5499, Validation Loss: 363.2591\n",
      "Epoch [75/100], Training Loss: 245.4214, Validation Loss: 349.1914\n",
      "Epoch [76/100], Training Loss: 493.0969, Validation Loss: 333.0879\n",
      "Epoch [77/100], Training Loss: 216.3640, Validation Loss: 351.4129\n",
      "Epoch [78/100], Training Loss: 331.9365, Validation Loss: 347.7727\n",
      "Epoch [79/100], Training Loss: 1485.8219, Validation Loss: 363.8697\n",
      "Epoch [80/100], Training Loss: 289.4288, Validation Loss: 342.6621\n",
      "Epoch [81/100], Training Loss: 256.7492, Validation Loss: 366.8289\n",
      "Epoch [82/100], Training Loss: 520.3663, Validation Loss: 360.2962\n",
      "Epoch [83/100], Training Loss: 187.6254, Validation Loss: 327.3712\n",
      "Epoch [84/100], Training Loss: 439.7974, Validation Loss: 341.9287\n",
      "Epoch [85/100], Training Loss: 563.8849, Validation Loss: 421.9661\n",
      "Epoch [86/100], Training Loss: 311.4283, Validation Loss: 332.9255\n",
      "Epoch [87/100], Training Loss: 311.4822, Validation Loss: 361.7546\n",
      "Epoch [88/100], Training Loss: 539.9725, Validation Loss: 335.4158\n",
      "Epoch [89/100], Training Loss: 363.1470, Validation Loss: 341.2737\n",
      "Epoch [90/100], Training Loss: 138.1224, Validation Loss: 343.5916\n",
      "Epoch [91/100], Training Loss: 753.5518, Validation Loss: 353.9205\n",
      "Epoch [92/100], Training Loss: 307.6176, Validation Loss: 319.2102\n",
      "Epoch [93/100], Training Loss: 215.1067, Validation Loss: 348.2756\n",
      "Epoch [94/100], Training Loss: 180.7237, Validation Loss: 331.4734\n",
      "Epoch [95/100], Training Loss: 293.0839, Validation Loss: 332.1804\n",
      "Epoch [96/100], Training Loss: 567.4543, Validation Loss: 363.8512\n",
      "Epoch [97/100], Training Loss: 286.4568, Validation Loss: 350.3141\n",
      "Epoch [98/100], Training Loss: 379.9429, Validation Loss: 323.1979\n",
      "Epoch [99/100], Training Loss: 287.1898, Validation Loss: 332.9324\n",
      "Epoch [100/100], Training Loss: 265.3657, Validation Loss: 342.3920\n"
     ]
    }
   ],
   "source": [
    "best_val_loss = float(\"inf\")\n",
    "patience = 20\n",
    "trigger_times = 0\n",
    "\n",
    "# Train the model\n",
    "num_epochs = 200\n",
    "for epoch in range(num_epochs):\n",
    "    model.train()  # Set the model to training mode\n",
    "    for inputs, targets in train_loader:\n",
    "        inputs, targets = inputs.to(device), targets.to(device)\n",
    "        # Forward pass\n",
    "        outputs = model(inputs)\n",
    "        loss = criterion(outputs, targets)\n",
    "\n",
    "        # Backward and optimize\n",
    "        optimizer.zero_grad()\n",
    "        loss.backward()\n",
    "        optimizer.step()\n",
    "\n",
    "    # Validation step\n",
    "    val_loss = 0.0\n",
    "    model.eval()  # Set the model to evaluation mode\n",
    "    with torch.no_grad():\n",
    "        for val_inputs, val_targets in val_loader:\n",
    "            val_inputs, val_targets = val_inputs.to(device), val_targets.to(device)\n",
    "            val_outputs = model(val_inputs)\n",
    "            val_loss += criterion(val_outputs, val_targets).item()\n",
    "    val_loss /= len(val_loader)\n",
    "\n",
    "    print(f'Epoch [{epoch+1}/{num_epochs}], Training Loss: {loss.item():.4f}, Validation Loss: {val_loss:.4f}')\n",
    "\n",
    "    # Early Stopping mechanism\n",
    "    if val_loss < best_val_loss:\n",
    "        best_val_loss = val_loss\n",
    "        trigger_times = 0\n",
    "    else:\n",
    "        trigger_times += 1\n",
    "        if trigger_times >= patience:\n",
    "            print('Early stopping!')\n",
    "            break  # Stop training"
   ]
  },
  {
   "cell_type": "code",
   "execution_count": 227,
   "id": "gGIS8jZ1Izgk",
   "metadata": {
    "colab": {
     "base_uri": "https://localhost:8080/"
    },
    "id": "gGIS8jZ1Izgk",
    "outputId": "265b0b5f-5e87-4aa0-cf6b-bb58b40c72b3"
   },
   "outputs": [
    {
     "name": "stdout",
     "output_type": "stream",
     "text": [
      "Deep Learning Model (PyTorch) RMSE: 18.623966217041016\n",
      "Deep Learning Model (PyTorch) MAE: 12.747228622436523\n",
      "Deep Learning Model (PyTorch) R²: 0.3217899239779195\n"
     ]
    }
   ],
   "source": [
    "# After training, evaluate the model's performance on the test set\n",
    "model.eval()  # Set the model to evaluation mode\n",
    "predictions = []\n",
    "with torch.no_grad():\n",
    "    for test_inputs, _ in test_loader:  # No need for targets here\n",
    "        test_inputs = test_inputs.to(device)\n",
    "        test_outputs = model(test_inputs)\n",
    "        predictions.append(test_outputs.cpu())  # Collect predictions\n",
    "predictions = torch.cat(predictions, dim=0)\n",
    "\n",
    "# Convert predictions and y_test to NumPy for evaluation metrics calculation\n",
    "predictions_np = predictions.numpy()\n",
    "y_test_np = y_test_tensor.numpy()\n",
    "\n",
    "# Calculate evaluation metrics\n",
    "rmse = np.sqrt(mean_squared_error(y_test_np, predictions_np))\n",
    "mae = mean_absolute_error(y_test_np, predictions_np)\n",
    "r2 = r2_score(y_test_np, predictions_np)\n",
    "\n",
    "print(f\"Deep Learning Model (PyTorch) RMSE: {rmse}\")\n",
    "print(f\"Deep Learning Model (PyTorch) MAE: {mae}\")\n",
    "print(f\"Deep Learning Model (PyTorch) R²: {r2}\")"
   ]
  },
  {
   "cell_type": "code",
   "execution_count": 228,
   "id": "0vThdjLrIzgk",
   "metadata": {
    "colab": {
     "base_uri": "https://localhost:8080/"
    },
    "id": "0vThdjLrIzgk",
    "outputId": "c36178d6-6b19-40bb-e717-830714dd7f16"
   },
   "outputs": [
    {
     "name": "stdout",
     "output_type": "stream",
     "text": [
      "Custom Accuracy (within 5 minutes): 28.21%\n"
     ]
    }
   ],
   "source": [
    "accuracy_nn = calculate_custom_accuracy(y_test_np, predictions_np, threshold=5)\n",
    "print(f\"Custom Accuracy (within 5 minutes): {accuracy_nn * 100:.2f}%\")"
   ]
  },
  {
   "cell_type": "markdown",
   "id": "XxGzD95vGJ03",
   "metadata": {
    "id": "XxGzD95vGJ03"
   },
   "source": [
    "## LSTM"
   ]
  },
  {
   "cell_type": "code",
   "execution_count": null,
   "id": "O-c95MVaGObj",
   "metadata": {
    "id": "O-c95MVaGObj"
   },
   "outputs": [],
   "source": [
    "# Convert datasets to PyTorch tensors\n",
    "X_train_tensor = torch.tensor(X_train_transformed.astype(np.float32))\n",
    "y_train_tensor = torch.tensor(y_train.values.astype(np.float32)).view(-1, 1)\n",
    "X_test_tensor = torch.tensor(X_test_transformed.astype(np.float32))\n",
    "y_test_tensor = torch.tensor(y_test.values.astype(np.float32)).view(-1, 1)\n",
    "\n",
    "# For LSTM Model\n",
    "# X_train_tensor = torch.tensor(X_train_transformed.astype(np.float32)).view(-1, 1, X_train_transformed.shape[1])\n",
    "# X_test_tensor = torch.tensor(X_test_transformed.astype(np.float32)).view(-1, 1, X_test_transformed.shape[1])\n",
    "\n",
    "# Create datasets and dataloaders\n",
    "train_dataset = TensorDataset(X_train_tensor, y_train_tensor)\n",
    "test_dataset = TensorDataset(X_test_tensor, y_test_tensor)\n",
    "\n",
    "# Define the split sizes. Let's say we want to use 20% of the training data for validation\n",
    "total_train_samples = len(train_dataset)\n",
    "val_size = int(0.2 * total_train_samples)\n",
    "train_size = total_train_samples - val_size\n",
    "\n",
    "# Split the dataset\n",
    "train_ds, val_ds = random_split(train_dataset, [train_size, val_size], generator = torch.Generator().manual_seed(42))\n",
    "\n",
    "# Define the DataLoaders for training, validation, and test sets\n",
    "train_loader = DataLoader(dataset=train_ds, batch_size=128, shuffle=True)\n",
    "val_loader = DataLoader(dataset=val_ds, batch_size=128, shuffle=False)\n",
    "test_loader = DataLoader(dataset=test_dataset, batch_size=128, shuffle=False)"
   ]
  },
  {
   "cell_type": "code",
   "execution_count": 122,
   "id": "kXp_TKIoBDwA",
   "metadata": {
    "id": "kXp_TKIoBDwA"
   },
   "outputs": [],
   "source": [
    "class LSTMRegressionModel(nn.Module): #LSTM\n",
    "    def __init__(self, input_size, hidden_size, num_layers, output_size=1):\n",
    "        super(LSTMRegressionModel, self).__init__()\n",
    "        self.hidden_size = hidden_size\n",
    "        self.num_layers = num_layers\n",
    "        self.lstm = nn.LSTM(input_size, hidden_size, num_layers, batch_first=True, bidirectional=True)\n",
    "        self.fc = nn.Linear(hidden_size*2, output_size)\n",
    "\n",
    "    def forward(self, x):\n",
    "        # Initialize hidden and cell states\n",
    "        h0 = torch.zeros(self.num_layers*2, x.size(0), self.hidden_size).to(x.device)\n",
    "        c0 = torch.zeros(self.num_layers*2, x.size(0), self.hidden_size).to(x.device)\n",
    "\n",
    "        # Forward propagate LSTM\n",
    "        out, _ = self.lstm(x, (h0, c0))\n",
    "\n",
    "        # Decode the hidden state of the last time step\n",
    "        out = self.fc(out[:, -1, :])\n",
    "        return out"
   ]
  },
  {
   "cell_type": "code",
   "execution_count": null,
   "id": "bulMABTSGRUB",
   "metadata": {
    "id": "bulMABTSGRUB"
   },
   "outputs": [],
   "source": [
    "model = LSTMRegressionModel(input_size=X_train_transformed.shape[1], hidden_size=50, num_layers=2).to(device)\n",
    "\n",
    "# Loss and optimizer\n",
    "criterion = nn.MSELoss()\n",
    "optimizer = optim.Adam(model.parameters(), lr=0.0001)"
   ]
  },
  {
   "cell_type": "code",
   "execution_count": null,
   "id": "E2uo66kKGRWX",
   "metadata": {
    "id": "E2uo66kKGRWX"
   },
   "outputs": [],
   "source": [
    "best_val_loss = float(\"inf\")\n",
    "patience = 8\n",
    "trigger_times = 0\n",
    "\n",
    "# Train the model\n",
    "num_epochs = 100\n",
    "for epoch in range(num_epochs):\n",
    "    model.train()  # Set the model to training mode\n",
    "    for inputs, targets in train_loader:\n",
    "        inputs, targets = inputs.to(device), targets.to(device)\n",
    "        # Forward pass\n",
    "        outputs = model(inputs)\n",
    "        loss = criterion(outputs, targets)\n",
    "\n",
    "        # Backward and optimize\n",
    "        optimizer.zero_grad()\n",
    "        loss.backward()\n",
    "        optimizer.step()\n",
    "\n",
    "    # Validation step\n",
    "    val_loss = 0.0\n",
    "    model.eval()  # Set the model to evaluation mode\n",
    "    with torch.no_grad():\n",
    "        for val_inputs, val_targets in val_loader:\n",
    "            val_inputs, val_targets = val_inputs.to(device), val_targets.to(device)\n",
    "            val_outputs = model(val_inputs)\n",
    "            val_loss += criterion(val_outputs, val_targets).item()\n",
    "    val_loss /= len(val_loader)\n",
    "\n",
    "    print(f'Epoch [{epoch+1}/{num_epochs}], Training Loss: {loss.item():.4f}, Validation Loss: {val_loss:.4f}')\n",
    "\n",
    "    # Early Stopping mechanism\n",
    "    if val_loss < best_val_loss:\n",
    "        best_val_loss = val_loss\n",
    "        trigger_times = 0\n",
    "    else:\n",
    "        trigger_times += 1\n",
    "        if trigger_times >= patience:\n",
    "            print('Early stopping!')\n",
    "            break  # Stop training"
   ]
  },
  {
   "cell_type": "code",
   "execution_count": null,
   "id": "KSPliLjPGRYp",
   "metadata": {
    "id": "KSPliLjPGRYp"
   },
   "outputs": [],
   "source": [
    "# After training, evaluate the model's performance on the test set\n",
    "model.eval()  # Set the model to evaluation mode\n",
    "predictions = []\n",
    "with torch.no_grad():\n",
    "    for test_inputs, _ in test_loader:  # No need for targets here\n",
    "        test_inputs = test_inputs.to(device)\n",
    "        test_outputs = model(test_inputs)\n",
    "        predictions.append(test_outputs.cpu())  # Collect predictions\n",
    "predictions = torch.cat(predictions, dim=0)\n",
    "\n",
    "# Convert predictions and y_test to NumPy for evaluation metrics calculation\n",
    "predictions_np = predictions.numpy()\n",
    "y_test_np = y_test_tensor.numpy()\n",
    "\n",
    "# Calculate evaluation metrics\n",
    "rmse = np.sqrt(mean_squared_error(y_test_np, predictions_np))\n",
    "mae = mean_absolute_error(y_test_np, predictions_np)\n",
    "r2 = r2_score(y_test_np, predictions_np)\n",
    "\n",
    "print(f\"Deep Learning Model (PyTorch) RMSE: {rmse}\")\n",
    "print(f\"Deep Learning Model (PyTorch) MAE: {mae}\")\n",
    "print(f\"Deep Learning Model (PyTorch) R²: {r2}\")"
   ]
  },
  {
   "cell_type": "code",
   "execution_count": null,
   "id": "n8b2WewkGRar",
   "metadata": {
    "id": "n8b2WewkGRar"
   },
   "outputs": [],
   "source": [
    "accuracy_nn = calculate_custom_accuracy(y_test_np, predictions_np, threshold=5)\n",
    "print(f\"Custom Accuracy (within 5 minutes): {accuracy_nn * 100:.2f}%\")"
   ]
  },
  {
   "cell_type": "markdown",
   "id": "L59PMmZI_6gM",
   "metadata": {
    "id": "L59PMmZI_6gM"
   },
   "source": [
    "## Transformer"
   ]
  },
  {
   "cell_type": "code",
   "execution_count": 136,
   "id": "gHXDG8gGF4YQ",
   "metadata": {
    "id": "gHXDG8gGF4YQ"
   },
   "outputs": [],
   "source": [
    "class TransformerRegression(nn.Module):\n",
    "    def __init__(self, input_dim, d_model, nhead, num_encoder_layers, dim_feedforward, output_dim=1):\n",
    "        super(TransformerRegression, self).__init__()\n",
    "        self.input_embedding = nn.Linear(input_dim, d_model)\n",
    "        encoder_layer = nn.TransformerEncoderLayer(d_model=d_model, nhead=nhead, dim_feedforward=dim_feedforward, batch_first=True)  # Ensure batch_first is True\n",
    "        self.transformer_encoder = nn.TransformerEncoder(encoder_layer, num_layers=num_encoder_layers)\n",
    "        self.output_linear = nn.Linear(d_model, output_dim)\n",
    "\n",
    "    def forward(self, src):\n",
    "        # Add a sequence length of 1\n",
    "        src = src.unsqueeze(1)  # Change shape from [batch_size, features] to [batch_size, 1, features]\n",
    "        src = self.input_embedding(src)\n",
    "        # No need to permute src anymore since batch_first=True handles it\n",
    "        output = self.transformer_encoder(src)\n",
    "        # No need to permute back, directly access the required output\n",
    "        output = self.output_linear(output[:, 0, :])  # Use the output corresponding to the added sequence\n",
    "        return output"
   ]
  },
  {
   "cell_type": "code",
   "execution_count": 139,
   "id": "gtH-zokDGiVy",
   "metadata": {
    "id": "gtH-zokDGiVy"
   },
   "outputs": [],
   "source": [
    "# Model parameters - these need to be chosen based on your specific task\n",
    "input_dim = X_train_transformed.shape[1]  # Number of features\n",
    "d_model = 512  # The size of the transformer embeddings\n",
    "nhead = 8  # The number of heads in the multiheadattention models\n",
    "num_encoder_layers = 3  # The number of sub-encoder-layers in the encoder\n",
    "dim_feedforward = 2048  # The dimension of the feedforward network model in nn.TransformerEncoder\n",
    "\n",
    "model = TransformerRegression(input_dim=input_dim, d_model=d_model, nhead=nhead,\n",
    "                              num_encoder_layers=num_encoder_layers, dim_feedforward=dim_feedforward).to(device)\n",
    "\n",
    "# Loss and optimizer\n",
    "criterion = nn.MSELoss()\n",
    "optimizer = optim.Adam(model.parameters(), lr=0.001)"
   ]
  },
  {
   "cell_type": "code",
   "execution_count": null,
   "id": "c061422b",
   "metadata": {
    "id": "c061422b"
   },
   "outputs": [],
   "source": [
    "best_val_loss = float(\"inf\")\n",
    "patience = 8\n",
    "trigger_times = 0\n",
    "\n",
    "# Train the model\n",
    "num_epochs = 100\n",
    "for epoch in range(num_epochs):\n",
    "    model.train()  # Set the model to training mode\n",
    "    for inputs, targets in train_loader:\n",
    "        inputs, targets = inputs.to(device), targets.to(device)\n",
    "        # Forward pass\n",
    "        outputs = model(inputs)\n",
    "        loss = criterion(outputs, targets)\n",
    "\n",
    "        # Backward and optimize\n",
    "        optimizer.zero_grad()\n",
    "        loss.backward()\n",
    "        optimizer.step()\n",
    "\n",
    "    # Validation step\n",
    "    val_loss = 0.0\n",
    "    model.eval()  # Set the model to evaluation mode\n",
    "    with torch.no_grad():\n",
    "        for val_inputs, val_targets in val_loader:\n",
    "            val_inputs, val_targets = val_inputs.to(device), val_targets.to(device)\n",
    "            val_outputs = model(val_inputs)\n",
    "            val_loss += criterion(val_outputs, val_targets).item()\n",
    "    val_loss /= len(val_loader)\n",
    "\n",
    "    print(f'Epoch [{epoch+1}/{num_epochs}], Training Loss: {loss.item():.4f}, Validation Loss: {val_loss:.4f}')\n",
    "\n",
    "    # Early Stopping mechanism\n",
    "    if val_loss < best_val_loss:\n",
    "        best_val_loss = val_loss\n",
    "        trigger_times = 0\n",
    "    else:\n",
    "        trigger_times += 1\n",
    "        if trigger_times >= patience:\n",
    "            print('Early stopping!')\n",
    "            break  # Stop training"
   ]
  },
  {
   "cell_type": "code",
   "execution_count": 142,
   "id": "839187cc",
   "metadata": {
    "colab": {
     "base_uri": "https://localhost:8080/"
    },
    "id": "839187cc",
    "outputId": "2b7ab783-b249-4fa0-f1d5-8898e40d5aaf"
   },
   "outputs": [
    {
     "name": "stdout",
     "output_type": "stream",
     "text": [
      "Deep Learning Model (PyTorch) RMSE: 22.623247146606445\n",
      "Deep Learning Model (PyTorch) MAE: 18.08173370361328\n",
      "Deep Learning Model (PyTorch) R²: -0.0007594950992264593\n"
     ]
    }
   ],
   "source": [
    "# After training, evaluate the model's performance on the test set\n",
    "model.eval()  # Set the model to evaluation mode\n",
    "predictions = []\n",
    "with torch.no_grad():\n",
    "    for test_inputs, _ in test_loader:  # No need for targets here\n",
    "        test_inputs = test_inputs.to(device)\n",
    "        test_outputs = model(test_inputs)\n",
    "        predictions.append(test_outputs.cpu())  # Collect predictions\n",
    "predictions = torch.cat(predictions, dim=0)\n",
    "\n",
    "# Convert predictions and y_test to NumPy for evaluation metrics calculation\n",
    "predictions_np = predictions.numpy()\n",
    "y_test_np = y_test_tensor.numpy()\n",
    "\n",
    "# Calculate evaluation metrics\n",
    "rmse = np.sqrt(mean_squared_error(y_test_np, predictions_np))\n",
    "mae = mean_absolute_error(y_test_np, predictions_np)\n",
    "r2 = r2_score(y_test_np, predictions_np)\n",
    "\n",
    "print(f\"Deep Learning Model (PyTorch) RMSE: {rmse}\")\n",
    "print(f\"Deep Learning Model (PyTorch) MAE: {mae}\")\n",
    "print(f\"Deep Learning Model (PyTorch) R²: {r2}\")"
   ]
  },
  {
   "cell_type": "code",
   "execution_count": 143,
   "id": "4yGbaHeI5Hwc",
   "metadata": {
    "colab": {
     "base_uri": "https://localhost:8080/"
    },
    "id": "4yGbaHeI5Hwc",
    "outputId": "246bd886-3b2d-46f4-fa8a-a7689612a53c"
   },
   "outputs": [
    {
     "name": "stdout",
     "output_type": "stream",
     "text": [
      "Custom Accuracy (within 5 minutes): 13.85%\n"
     ]
    }
   ],
   "source": [
    "accuracy_nn = calculate_custom_accuracy(y_test_np, predictions_np, threshold=5)\n",
    "print(f\"Custom Accuracy (within 5 minutes): {accuracy_nn * 100:.2f}%\")"
   ]
  },
  {
   "cell_type": "markdown",
   "id": "949a90a0",
   "metadata": {},
   "source": [
    "# Random Data Generation"
   ]
  },
  {
   "cell_type": "code",
   "execution_count": 72,
   "id": "5d6a0ae3",
   "metadata": {},
   "outputs": [
    {
     "data": {
      "text/html": [
       "<div>\n",
       "<style scoped>\n",
       "    .dataframe tbody tr th:only-of-type {\n",
       "        vertical-align: middle;\n",
       "    }\n",
       "\n",
       "    .dataframe tbody tr th {\n",
       "        vertical-align: top;\n",
       "    }\n",
       "\n",
       "    .dataframe thead th {\n",
       "        text-align: right;\n",
       "    }\n",
       "</style>\n",
       "<table border=\"1\" class=\"dataframe\">\n",
       "  <thead>\n",
       "    <tr style=\"text-align: right;\">\n",
       "      <th></th>\n",
       "      <th>month</th>\n",
       "      <th>day_of_week</th>\n",
       "      <th>hour</th>\n",
       "      <th>minutes</th>\n",
       "      <th>attendance</th>\n",
       "      <th>entity_description_short</th>\n",
       "      <th>nb_units</th>\n",
       "      <th>adjust_capacity</th>\n",
       "      <th>weather_main</th>\n",
       "      <th>weather_description</th>\n",
       "      <th>feels_like</th>\n",
       "      <th>humidity</th>\n",
       "      <th>rain_1h</th>\n",
       "      <th>snow_1h</th>\n",
       "      <th>has_night_show</th>\n",
       "      <th>has_parade_1</th>\n",
       "      <th>has_parade_2</th>\n",
       "    </tr>\n",
       "  </thead>\n",
       "  <tbody>\n",
       "    <tr>\n",
       "      <th>0</th>\n",
       "      <td>7</td>\n",
       "      <td>Thursday</td>\n",
       "      <td>11</td>\n",
       "      <td>0</td>\n",
       "      <td>43525.0</td>\n",
       "      <td>Spiral Slide</td>\n",
       "      <td>118.9448</td>\n",
       "      <td>152.4997</td>\n",
       "      <td>Snow</td>\n",
       "      <td>snow</td>\n",
       "      <td>39.90</td>\n",
       "      <td>15</td>\n",
       "      <td>3.6</td>\n",
       "      <td>2.5</td>\n",
       "      <td>1</td>\n",
       "      <td>1</td>\n",
       "      <td>1</td>\n",
       "    </tr>\n",
       "    <tr>\n",
       "      <th>1</th>\n",
       "      <td>4</td>\n",
       "      <td>Saturday</td>\n",
       "      <td>20</td>\n",
       "      <td>15</td>\n",
       "      <td>45550.0</td>\n",
       "      <td>Oz Theatre</td>\n",
       "      <td>110.5050</td>\n",
       "      <td>677.1973</td>\n",
       "      <td>Clouds</td>\n",
       "      <td>scattered clouds</td>\n",
       "      <td>7.01</td>\n",
       "      <td>96</td>\n",
       "      <td>4.7</td>\n",
       "      <td>2.6</td>\n",
       "      <td>1</td>\n",
       "      <td>0</td>\n",
       "      <td>0</td>\n",
       "    </tr>\n",
       "    <tr>\n",
       "      <th>2</th>\n",
       "      <td>11</td>\n",
       "      <td>Saturday</td>\n",
       "      <td>15</td>\n",
       "      <td>45</td>\n",
       "      <td>18049.0</td>\n",
       "      <td>Oz Theatre</td>\n",
       "      <td>58.4286</td>\n",
       "      <td>359.3799</td>\n",
       "      <td>Rain</td>\n",
       "      <td>overcast clouds</td>\n",
       "      <td>38.95</td>\n",
       "      <td>72</td>\n",
       "      <td>7.5</td>\n",
       "      <td>1.2</td>\n",
       "      <td>1</td>\n",
       "      <td>0</td>\n",
       "      <td>1</td>\n",
       "    </tr>\n",
       "    <tr>\n",
       "      <th>3</th>\n",
       "      <td>8</td>\n",
       "      <td>Tuesday</td>\n",
       "      <td>12</td>\n",
       "      <td>45</td>\n",
       "      <td>77688.0</td>\n",
       "      <td>Oz Theatre</td>\n",
       "      <td>12.4033</td>\n",
       "      <td>425.8363</td>\n",
       "      <td>Snow</td>\n",
       "      <td>sky is clear</td>\n",
       "      <td>13.50</td>\n",
       "      <td>58</td>\n",
       "      <td>6.1</td>\n",
       "      <td>2.7</td>\n",
       "      <td>1</td>\n",
       "      <td>1</td>\n",
       "      <td>0</td>\n",
       "    </tr>\n",
       "    <tr>\n",
       "      <th>4</th>\n",
       "      <td>5</td>\n",
       "      <td>Thursday</td>\n",
       "      <td>17</td>\n",
       "      <td>30</td>\n",
       "      <td>62910.0</td>\n",
       "      <td>Spiral Slide</td>\n",
       "      <td>48.2064</td>\n",
       "      <td>525.8102</td>\n",
       "      <td>Clear</td>\n",
       "      <td>heavy intensity rain</td>\n",
       "      <td>-3.51</td>\n",
       "      <td>69</td>\n",
       "      <td>6.6</td>\n",
       "      <td>2.6</td>\n",
       "      <td>1</td>\n",
       "      <td>1</td>\n",
       "      <td>1</td>\n",
       "    </tr>\n",
       "    <tr>\n",
       "      <th>5</th>\n",
       "      <td>7</td>\n",
       "      <td>Friday</td>\n",
       "      <td>11</td>\n",
       "      <td>45</td>\n",
       "      <td>75402.0</td>\n",
       "      <td>Oz Theatre</td>\n",
       "      <td>86.9494</td>\n",
       "      <td>105.3346</td>\n",
       "      <td>Rain</td>\n",
       "      <td>light snow</td>\n",
       "      <td>10.53</td>\n",
       "      <td>79</td>\n",
       "      <td>1.9</td>\n",
       "      <td>2.8</td>\n",
       "      <td>0</td>\n",
       "      <td>0</td>\n",
       "      <td>0</td>\n",
       "    </tr>\n",
       "    <tr>\n",
       "      <th>6</th>\n",
       "      <td>10</td>\n",
       "      <td>Monday</td>\n",
       "      <td>13</td>\n",
       "      <td>30</td>\n",
       "      <td>72007.0</td>\n",
       "      <td>Oz Theatre</td>\n",
       "      <td>86.5699</td>\n",
       "      <td>456.9395</td>\n",
       "      <td>Clouds</td>\n",
       "      <td>moderate rain</td>\n",
       "      <td>23.55</td>\n",
       "      <td>92</td>\n",
       "      <td>4.9</td>\n",
       "      <td>2.4</td>\n",
       "      <td>0</td>\n",
       "      <td>0</td>\n",
       "      <td>1</td>\n",
       "    </tr>\n",
       "    <tr>\n",
       "      <th>7</th>\n",
       "      <td>3</td>\n",
       "      <td>Thursday</td>\n",
       "      <td>11</td>\n",
       "      <td>45</td>\n",
       "      <td>49440.0</td>\n",
       "      <td>Spiral Slide</td>\n",
       "      <td>76.8687</td>\n",
       "      <td>408.1199</td>\n",
       "      <td>Clear</td>\n",
       "      <td>light snow</td>\n",
       "      <td>25.63</td>\n",
       "      <td>2</td>\n",
       "      <td>6.3</td>\n",
       "      <td>2.0</td>\n",
       "      <td>0</td>\n",
       "      <td>1</td>\n",
       "      <td>1</td>\n",
       "    </tr>\n",
       "    <tr>\n",
       "      <th>8</th>\n",
       "      <td>7</td>\n",
       "      <td>Tuesday</td>\n",
       "      <td>15</td>\n",
       "      <td>0</td>\n",
       "      <td>74062.0</td>\n",
       "      <td>Spiral Slide</td>\n",
       "      <td>35.7138</td>\n",
       "      <td>153.5143</td>\n",
       "      <td>Clear</td>\n",
       "      <td>snow</td>\n",
       "      <td>18.89</td>\n",
       "      <td>19</td>\n",
       "      <td>2.1</td>\n",
       "      <td>1.7</td>\n",
       "      <td>1</td>\n",
       "      <td>0</td>\n",
       "      <td>1</td>\n",
       "    </tr>\n",
       "    <tr>\n",
       "      <th>9</th>\n",
       "      <td>11</td>\n",
       "      <td>Saturday</td>\n",
       "      <td>13</td>\n",
       "      <td>45</td>\n",
       "      <td>10725.0</td>\n",
       "      <td>Spiral Slide</td>\n",
       "      <td>72.9616</td>\n",
       "      <td>712.7973</td>\n",
       "      <td>Clear</td>\n",
       "      <td>light rain</td>\n",
       "      <td>15.15</td>\n",
       "      <td>58</td>\n",
       "      <td>1.6</td>\n",
       "      <td>1.1</td>\n",
       "      <td>0</td>\n",
       "      <td>1</td>\n",
       "      <td>0</td>\n",
       "    </tr>\n",
       "    <tr>\n",
       "      <th>10</th>\n",
       "      <td>11</td>\n",
       "      <td>Friday</td>\n",
       "      <td>17</td>\n",
       "      <td>30</td>\n",
       "      <td>18895.0</td>\n",
       "      <td>Oz Theatre</td>\n",
       "      <td>49.7805</td>\n",
       "      <td>452.7423</td>\n",
       "      <td>Rain</td>\n",
       "      <td>overcast clouds</td>\n",
       "      <td>19.88</td>\n",
       "      <td>35</td>\n",
       "      <td>8.8</td>\n",
       "      <td>2.8</td>\n",
       "      <td>1</td>\n",
       "      <td>0</td>\n",
       "      <td>1</td>\n",
       "    </tr>\n",
       "    <tr>\n",
       "      <th>11</th>\n",
       "      <td>8</td>\n",
       "      <td>Thursday</td>\n",
       "      <td>15</td>\n",
       "      <td>30</td>\n",
       "      <td>7437.0</td>\n",
       "      <td>Spiral Slide</td>\n",
       "      <td>126.3226</td>\n",
       "      <td>525.2574</td>\n",
       "      <td>Clouds</td>\n",
       "      <td>overcast clouds</td>\n",
       "      <td>21.67</td>\n",
       "      <td>18</td>\n",
       "      <td>4.6</td>\n",
       "      <td>2.9</td>\n",
       "      <td>1</td>\n",
       "      <td>1</td>\n",
       "      <td>0</td>\n",
       "    </tr>\n",
       "    <tr>\n",
       "      <th>12</th>\n",
       "      <td>5</td>\n",
       "      <td>Monday</td>\n",
       "      <td>10</td>\n",
       "      <td>15</td>\n",
       "      <td>28725.0</td>\n",
       "      <td>Spiral Slide</td>\n",
       "      <td>110.3588</td>\n",
       "      <td>665.6337</td>\n",
       "      <td>Clear</td>\n",
       "      <td>heavy intensity rain</td>\n",
       "      <td>-1.36</td>\n",
       "      <td>89</td>\n",
       "      <td>2.3</td>\n",
       "      <td>0.9</td>\n",
       "      <td>0</td>\n",
       "      <td>0</td>\n",
       "      <td>1</td>\n",
       "    </tr>\n",
       "    <tr>\n",
       "      <th>13</th>\n",
       "      <td>4</td>\n",
       "      <td>Monday</td>\n",
       "      <td>12</td>\n",
       "      <td>0</td>\n",
       "      <td>33539.0</td>\n",
       "      <td>Oz Theatre</td>\n",
       "      <td>93.8248</td>\n",
       "      <td>472.0117</td>\n",
       "      <td>Snow</td>\n",
       "      <td>light rain</td>\n",
       "      <td>11.63</td>\n",
       "      <td>66</td>\n",
       "      <td>9.0</td>\n",
       "      <td>0.9</td>\n",
       "      <td>0</td>\n",
       "      <td>1</td>\n",
       "      <td>0</td>\n",
       "    </tr>\n",
       "    <tr>\n",
       "      <th>14</th>\n",
       "      <td>8</td>\n",
       "      <td>Wednesday</td>\n",
       "      <td>17</td>\n",
       "      <td>45</td>\n",
       "      <td>24623.0</td>\n",
       "      <td>Spiral Slide</td>\n",
       "      <td>30.6780</td>\n",
       "      <td>223.4991</td>\n",
       "      <td>Clear</td>\n",
       "      <td>few clouds</td>\n",
       "      <td>5.90</td>\n",
       "      <td>18</td>\n",
       "      <td>8.7</td>\n",
       "      <td>1.5</td>\n",
       "      <td>1</td>\n",
       "      <td>0</td>\n",
       "      <td>1</td>\n",
       "    </tr>\n",
       "    <tr>\n",
       "      <th>15</th>\n",
       "      <td>8</td>\n",
       "      <td>Wednesday</td>\n",
       "      <td>20</td>\n",
       "      <td>15</td>\n",
       "      <td>66984.0</td>\n",
       "      <td>Oz Theatre</td>\n",
       "      <td>33.2889</td>\n",
       "      <td>79.7537</td>\n",
       "      <td>Clear</td>\n",
       "      <td>broken clouds</td>\n",
       "      <td>31.14</td>\n",
       "      <td>19</td>\n",
       "      <td>5.0</td>\n",
       "      <td>1.3</td>\n",
       "      <td>0</td>\n",
       "      <td>0</td>\n",
       "      <td>0</td>\n",
       "    </tr>\n",
       "    <tr>\n",
       "      <th>16</th>\n",
       "      <td>3</td>\n",
       "      <td>Sunday</td>\n",
       "      <td>10</td>\n",
       "      <td>45</td>\n",
       "      <td>31113.0</td>\n",
       "      <td>Go-Karts</td>\n",
       "      <td>5.2564</td>\n",
       "      <td>345.1401</td>\n",
       "      <td>Rain</td>\n",
       "      <td>sky is clear</td>\n",
       "      <td>16.16</td>\n",
       "      <td>95</td>\n",
       "      <td>7.9</td>\n",
       "      <td>3.0</td>\n",
       "      <td>1</td>\n",
       "      <td>1</td>\n",
       "      <td>0</td>\n",
       "    </tr>\n",
       "    <tr>\n",
       "      <th>17</th>\n",
       "      <td>6</td>\n",
       "      <td>Tuesday</td>\n",
       "      <td>18</td>\n",
       "      <td>45</td>\n",
       "      <td>25351.0</td>\n",
       "      <td>Spiral Slide</td>\n",
       "      <td>92.3862</td>\n",
       "      <td>165.1410</td>\n",
       "      <td>Rain</td>\n",
       "      <td>overcast clouds</td>\n",
       "      <td>39.25</td>\n",
       "      <td>70</td>\n",
       "      <td>1.7</td>\n",
       "      <td>0.5</td>\n",
       "      <td>1</td>\n",
       "      <td>0</td>\n",
       "      <td>1</td>\n",
       "    </tr>\n",
       "    <tr>\n",
       "      <th>18</th>\n",
       "      <td>5</td>\n",
       "      <td>Thursday</td>\n",
       "      <td>17</td>\n",
       "      <td>15</td>\n",
       "      <td>45245.0</td>\n",
       "      <td>Go-Karts</td>\n",
       "      <td>14.4158</td>\n",
       "      <td>314.8815</td>\n",
       "      <td>Clouds</td>\n",
       "      <td>scattered clouds</td>\n",
       "      <td>12.95</td>\n",
       "      <td>51</td>\n",
       "      <td>2.5</td>\n",
       "      <td>0.1</td>\n",
       "      <td>1</td>\n",
       "      <td>1</td>\n",
       "      <td>0</td>\n",
       "    </tr>\n",
       "    <tr>\n",
       "      <th>19</th>\n",
       "      <td>2</td>\n",
       "      <td>Thursday</td>\n",
       "      <td>18</td>\n",
       "      <td>15</td>\n",
       "      <td>14710.0</td>\n",
       "      <td>Oz Theatre</td>\n",
       "      <td>57.1137</td>\n",
       "      <td>667.7599</td>\n",
       "      <td>Snow</td>\n",
       "      <td>overcast clouds</td>\n",
       "      <td>31.74</td>\n",
       "      <td>32</td>\n",
       "      <td>6.3</td>\n",
       "      <td>1.5</td>\n",
       "      <td>1</td>\n",
       "      <td>0</td>\n",
       "      <td>0</td>\n",
       "    </tr>\n",
       "  </tbody>\n",
       "</table>\n",
       "</div>"
      ],
      "text/plain": [
       "    month day_of_week  hour  minutes  attendance entity_description_short  \\\n",
       "0       7    Thursday    11        0     43525.0             Spiral Slide   \n",
       "1       4    Saturday    20       15     45550.0               Oz Theatre   \n",
       "2      11    Saturday    15       45     18049.0               Oz Theatre   \n",
       "3       8     Tuesday    12       45     77688.0               Oz Theatre   \n",
       "4       5    Thursday    17       30     62910.0             Spiral Slide   \n",
       "5       7      Friday    11       45     75402.0               Oz Theatre   \n",
       "6      10      Monday    13       30     72007.0               Oz Theatre   \n",
       "7       3    Thursday    11       45     49440.0             Spiral Slide   \n",
       "8       7     Tuesday    15        0     74062.0             Spiral Slide   \n",
       "9      11    Saturday    13       45     10725.0             Spiral Slide   \n",
       "10     11      Friday    17       30     18895.0               Oz Theatre   \n",
       "11      8    Thursday    15       30      7437.0             Spiral Slide   \n",
       "12      5      Monday    10       15     28725.0             Spiral Slide   \n",
       "13      4      Monday    12        0     33539.0               Oz Theatre   \n",
       "14      8   Wednesday    17       45     24623.0             Spiral Slide   \n",
       "15      8   Wednesday    20       15     66984.0               Oz Theatre   \n",
       "16      3      Sunday    10       45     31113.0                 Go-Karts   \n",
       "17      6     Tuesday    18       45     25351.0             Spiral Slide   \n",
       "18      5    Thursday    17       15     45245.0                 Go-Karts   \n",
       "19      2    Thursday    18       15     14710.0               Oz Theatre   \n",
       "\n",
       "    nb_units  adjust_capacity weather_main   weather_description  feels_like  \\\n",
       "0   118.9448         152.4997         Snow                  snow       39.90   \n",
       "1   110.5050         677.1973       Clouds      scattered clouds        7.01   \n",
       "2    58.4286         359.3799         Rain       overcast clouds       38.95   \n",
       "3    12.4033         425.8363         Snow          sky is clear       13.50   \n",
       "4    48.2064         525.8102        Clear  heavy intensity rain       -3.51   \n",
       "5    86.9494         105.3346         Rain            light snow       10.53   \n",
       "6    86.5699         456.9395       Clouds         moderate rain       23.55   \n",
       "7    76.8687         408.1199        Clear            light snow       25.63   \n",
       "8    35.7138         153.5143        Clear                  snow       18.89   \n",
       "9    72.9616         712.7973        Clear            light rain       15.15   \n",
       "10   49.7805         452.7423         Rain       overcast clouds       19.88   \n",
       "11  126.3226         525.2574       Clouds       overcast clouds       21.67   \n",
       "12  110.3588         665.6337        Clear  heavy intensity rain       -1.36   \n",
       "13   93.8248         472.0117         Snow            light rain       11.63   \n",
       "14   30.6780         223.4991        Clear            few clouds        5.90   \n",
       "15   33.2889          79.7537        Clear         broken clouds       31.14   \n",
       "16    5.2564         345.1401         Rain          sky is clear       16.16   \n",
       "17   92.3862         165.1410         Rain       overcast clouds       39.25   \n",
       "18   14.4158         314.8815       Clouds      scattered clouds       12.95   \n",
       "19   57.1137         667.7599         Snow       overcast clouds       31.74   \n",
       "\n",
       "    humidity  rain_1h  snow_1h  has_night_show  has_parade_1  has_parade_2  \n",
       "0         15      3.6      2.5               1             1             1  \n",
       "1         96      4.7      2.6               1             0             0  \n",
       "2         72      7.5      1.2               1             0             1  \n",
       "3         58      6.1      2.7               1             1             0  \n",
       "4         69      6.6      2.6               1             1             1  \n",
       "5         79      1.9      2.8               0             0             0  \n",
       "6         92      4.9      2.4               0             0             1  \n",
       "7          2      6.3      2.0               0             1             1  \n",
       "8         19      2.1      1.7               1             0             1  \n",
       "9         58      1.6      1.1               0             1             0  \n",
       "10        35      8.8      2.8               1             0             1  \n",
       "11        18      4.6      2.9               1             1             0  \n",
       "12        89      2.3      0.9               0             0             1  \n",
       "13        66      9.0      0.9               0             1             0  \n",
       "14        18      8.7      1.5               1             0             1  \n",
       "15        19      5.0      1.3               0             0             0  \n",
       "16        95      7.9      3.0               1             1             0  \n",
       "17        70      1.7      0.5               1             0             1  \n",
       "18        51      2.5      0.1               1             1             0  \n",
       "19        32      6.3      1.5               1             0             0  "
      ]
     },
     "execution_count": 72,
     "metadata": {},
     "output_type": "execute_result"
    }
   ],
   "source": [
    "# Define possible values for categorical variables\n",
    "days_of_week = ['Monday', 'Tuesday', 'Wednesday', 'Thursday', 'Friday', 'Saturday', 'Sunday']\n",
    "weather_main = ['Clear', 'Clouds', 'Rain', 'Snow']\n",
    "weather_description = ['overcast clouds', 'broken clouds', 'sky is clear', 'light rain',\n",
    "       'scattered clouds', 'moderate rain', 'few clouds', 'light snow',\n",
    "       'snow', 'heavy intensity rain']\n",
    "# entity_description_short = ['Dizzy Dropper', 'Crazy Dance', 'Rapids Ride', 'Oz Theatre',\n",
    "#        'Inverted Coaster', 'Merry Go Round', 'Spiral Slide',\n",
    "#        'Bungee Jump', 'Drop Tower', 'Swing Ride', 'Go-Karts',\n",
    "#        'Himalaya Ride', 'Kiddie Coaster', 'Roller Coaster',\n",
    "#        'Spinning Coaster', 'Superman Ride', 'Giant Wheel', 'Circus Train',\n",
    "#        'Water Ride', 'Zipline', 'Bumper Cars', 'Haunted House',\n",
    "#        'Giga Coaster', 'Flying Coaster', 'Free Fall', 'Vertical Drop']\n",
    "\n",
    "entity_description_short = ['Oz Theatre','Go-Karts', 'Spiral Slide']\n",
    "\n",
    "# Random generation function\n",
    "def generate_random_data(num_rows):\n",
    "    np.random.seed(42)  # For reproducibility\n",
    "    data = {\n",
    "        'month': np.random.randint(1, 13, num_rows),\n",
    "        'day_of_week': np.random.choice(days_of_week, num_rows),\n",
    "        'hour': np.random.randint(9, 22, num_rows),\n",
    "        'minutes': np.random.choice([0, 15, 30, 45], num_rows),\n",
    "        'attendance': np.random.uniform(4000, 80000, num_rows).round(0),\n",
    "        'entity_description_short': np.random.choice(entity_description_short, num_rows),\n",
    "        'nb_units': np.random.uniform(0, 130, num_rows).round(4),\n",
    "        'adjust_capacity': np.random.uniform(0, 756, num_rows).round(4),\n",
    "        'weather_main': np.random.choice(weather_main, num_rows),\n",
    "        'weather_description': np.random.choice(weather_description, num_rows),\n",
    "        'feels_like': np.random.uniform(-5, 40, num_rows).round(2),\n",
    "        'humidity': np.random.randint(0, 100, num_rows),\n",
    "        'rain_1h': np.random.uniform(0, 9, num_rows).round(1),\n",
    "        'snow_1h': np.random.uniform(0, 3, num_rows).round(1),\n",
    "        'has_night_show': np.random.randint(0, 2, num_rows),\n",
    "        'has_parade_1': np.random.randint(0, 2, num_rows),\n",
    "        'has_parade_2': np.random.randint(0, 2, num_rows),\n",
    "    }\n",
    "    return pd.DataFrame(data)\n",
    "\n",
    "# Generate 20 new rows\n",
    "synthetic_data = generate_random_data(20)\n",
    "\n",
    "synthetic_data"
   ]
  },
  {
   "cell_type": "code",
   "execution_count": 76,
   "id": "55e020cd",
   "metadata": {},
   "outputs": [
    {
     "data": {
      "text/html": [
       "<div>\n",
       "<style scoped>\n",
       "    .dataframe tbody tr th:only-of-type {\n",
       "        vertical-align: middle;\n",
       "    }\n",
       "\n",
       "    .dataframe tbody tr th {\n",
       "        vertical-align: top;\n",
       "    }\n",
       "\n",
       "    .dataframe thead th {\n",
       "        text-align: right;\n",
       "    }\n",
       "</style>\n",
       "<table border=\"1\" class=\"dataframe\">\n",
       "  <thead>\n",
       "    <tr style=\"text-align: right;\">\n",
       "      <th></th>\n",
       "      <th>entity_description_short</th>\n",
       "      <th>day_of_week</th>\n",
       "      <th>hour</th>\n",
       "      <th>attendance</th>\n",
       "      <th>max_wait_time</th>\n",
       "    </tr>\n",
       "  </thead>\n",
       "  <tbody>\n",
       "    <tr>\n",
       "      <th>14</th>\n",
       "      <td>Spiral Slide</td>\n",
       "      <td>Wednesday</td>\n",
       "      <td>17</td>\n",
       "      <td>24623.0</td>\n",
       "      <td>15.0</td>\n",
       "    </tr>\n",
       "    <tr>\n",
       "      <th>8</th>\n",
       "      <td>Spiral Slide</td>\n",
       "      <td>Tuesday</td>\n",
       "      <td>15</td>\n",
       "      <td>74062.0</td>\n",
       "      <td>50.0</td>\n",
       "    </tr>\n",
       "    <tr>\n",
       "      <th>17</th>\n",
       "      <td>Spiral Slide</td>\n",
       "      <td>Tuesday</td>\n",
       "      <td>18</td>\n",
       "      <td>25351.0</td>\n",
       "      <td>90.0</td>\n",
       "    </tr>\n",
       "    <tr>\n",
       "      <th>0</th>\n",
       "      <td>Spiral Slide</td>\n",
       "      <td>Thursday</td>\n",
       "      <td>11</td>\n",
       "      <td>43525.0</td>\n",
       "      <td>120.0</td>\n",
       "    </tr>\n",
       "    <tr>\n",
       "      <th>4</th>\n",
       "      <td>Spiral Slide</td>\n",
       "      <td>Thursday</td>\n",
       "      <td>17</td>\n",
       "      <td>62910.0</td>\n",
       "      <td>120.0</td>\n",
       "    </tr>\n",
       "    <tr>\n",
       "      <th>7</th>\n",
       "      <td>Spiral Slide</td>\n",
       "      <td>Thursday</td>\n",
       "      <td>11</td>\n",
       "      <td>49440.0</td>\n",
       "      <td>180.0</td>\n",
       "    </tr>\n",
       "    <tr>\n",
       "      <th>11</th>\n",
       "      <td>Spiral Slide</td>\n",
       "      <td>Thursday</td>\n",
       "      <td>15</td>\n",
       "      <td>7437.0</td>\n",
       "      <td>120.0</td>\n",
       "    </tr>\n",
       "    <tr>\n",
       "      <th>9</th>\n",
       "      <td>Spiral Slide</td>\n",
       "      <td>Saturday</td>\n",
       "      <td>13</td>\n",
       "      <td>10725.0</td>\n",
       "      <td>45.0</td>\n",
       "    </tr>\n",
       "    <tr>\n",
       "      <th>12</th>\n",
       "      <td>Spiral Slide</td>\n",
       "      <td>Monday</td>\n",
       "      <td>10</td>\n",
       "      <td>28725.0</td>\n",
       "      <td>75.0</td>\n",
       "    </tr>\n",
       "    <tr>\n",
       "      <th>15</th>\n",
       "      <td>Oz Theatre</td>\n",
       "      <td>Wednesday</td>\n",
       "      <td>20</td>\n",
       "      <td>66984.0</td>\n",
       "      <td>0.0</td>\n",
       "    </tr>\n",
       "    <tr>\n",
       "      <th>3</th>\n",
       "      <td>Oz Theatre</td>\n",
       "      <td>Tuesday</td>\n",
       "      <td>12</td>\n",
       "      <td>77688.0</td>\n",
       "      <td>40.0</td>\n",
       "    </tr>\n",
       "    <tr>\n",
       "      <th>19</th>\n",
       "      <td>Oz Theatre</td>\n",
       "      <td>Thursday</td>\n",
       "      <td>18</td>\n",
       "      <td>14710.0</td>\n",
       "      <td>10.0</td>\n",
       "    </tr>\n",
       "    <tr>\n",
       "      <th>1</th>\n",
       "      <td>Oz Theatre</td>\n",
       "      <td>Saturday</td>\n",
       "      <td>20</td>\n",
       "      <td>45550.0</td>\n",
       "      <td>5.0</td>\n",
       "    </tr>\n",
       "    <tr>\n",
       "      <th>2</th>\n",
       "      <td>Oz Theatre</td>\n",
       "      <td>Saturday</td>\n",
       "      <td>15</td>\n",
       "      <td>18049.0</td>\n",
       "      <td>0.0</td>\n",
       "    </tr>\n",
       "    <tr>\n",
       "      <th>6</th>\n",
       "      <td>Oz Theatre</td>\n",
       "      <td>Monday</td>\n",
       "      <td>13</td>\n",
       "      <td>72007.0</td>\n",
       "      <td>40.0</td>\n",
       "    </tr>\n",
       "    <tr>\n",
       "      <th>13</th>\n",
       "      <td>Oz Theatre</td>\n",
       "      <td>Monday</td>\n",
       "      <td>12</td>\n",
       "      <td>33539.0</td>\n",
       "      <td>15.0</td>\n",
       "    </tr>\n",
       "    <tr>\n",
       "      <th>5</th>\n",
       "      <td>Oz Theatre</td>\n",
       "      <td>Friday</td>\n",
       "      <td>11</td>\n",
       "      <td>75402.0</td>\n",
       "      <td>10.0</td>\n",
       "    </tr>\n",
       "    <tr>\n",
       "      <th>10</th>\n",
       "      <td>Oz Theatre</td>\n",
       "      <td>Friday</td>\n",
       "      <td>17</td>\n",
       "      <td>18895.0</td>\n",
       "      <td>0.0</td>\n",
       "    </tr>\n",
       "    <tr>\n",
       "      <th>18</th>\n",
       "      <td>Go-Karts</td>\n",
       "      <td>Thursday</td>\n",
       "      <td>17</td>\n",
       "      <td>45245.0</td>\n",
       "      <td>0.0</td>\n",
       "    </tr>\n",
       "    <tr>\n",
       "      <th>16</th>\n",
       "      <td>Go-Karts</td>\n",
       "      <td>Sunday</td>\n",
       "      <td>10</td>\n",
       "      <td>31113.0</td>\n",
       "      <td>10.0</td>\n",
       "    </tr>\n",
       "  </tbody>\n",
       "</table>\n",
       "</div>"
      ],
      "text/plain": [
       "   entity_description_short day_of_week  hour  attendance  max_wait_time\n",
       "14             Spiral Slide   Wednesday    17     24623.0           15.0\n",
       "8              Spiral Slide     Tuesday    15     74062.0           50.0\n",
       "17             Spiral Slide     Tuesday    18     25351.0           90.0\n",
       "0              Spiral Slide    Thursday    11     43525.0          120.0\n",
       "4              Spiral Slide    Thursday    17     62910.0          120.0\n",
       "7              Spiral Slide    Thursday    11     49440.0          180.0\n",
       "11             Spiral Slide    Thursday    15      7437.0          120.0\n",
       "9              Spiral Slide    Saturday    13     10725.0           45.0\n",
       "12             Spiral Slide      Monday    10     28725.0           75.0\n",
       "15               Oz Theatre   Wednesday    20     66984.0            0.0\n",
       "3                Oz Theatre     Tuesday    12     77688.0           40.0\n",
       "19               Oz Theatre    Thursday    18     14710.0           10.0\n",
       "1                Oz Theatre    Saturday    20     45550.0            5.0\n",
       "2                Oz Theatre    Saturday    15     18049.0            0.0\n",
       "6                Oz Theatre      Monday    13     72007.0           40.0\n",
       "13               Oz Theatre      Monday    12     33539.0           15.0\n",
       "5                Oz Theatre      Friday    11     75402.0           10.0\n",
       "10               Oz Theatre      Friday    17     18895.0            0.0\n",
       "18                 Go-Karts    Thursday    17     45245.0            0.0\n",
       "16                 Go-Karts      Sunday    10     31113.0           10.0"
      ]
     },
     "execution_count": 76,
     "metadata": {},
     "output_type": "execute_result"
    }
   ],
   "source": [
    "y_pred_dt = dt_pipeline.predict(synthetic_data)\n",
    "synthetic_data[\"max_wait_time\"] = y_pred_dt\n",
    "synthetic_data[[\"entity_description_short\",\"day_of_week\", \"hour\", \"attendance\", \"max_wait_time\"]].sort_values(\n",
    "    [\"entity_description_short\", \"day_of_week\"], ascending=False)"
   ]
  },
  {
   "cell_type": "code",
   "execution_count": 88,
   "id": "76c5e9a6",
   "metadata": {},
   "outputs": [
    {
     "data": {
      "text/html": [
       "<div>\n",
       "<style scoped>\n",
       "    .dataframe tbody tr th:only-of-type {\n",
       "        vertical-align: middle;\n",
       "    }\n",
       "\n",
       "    .dataframe tbody tr th {\n",
       "        vertical-align: top;\n",
       "    }\n",
       "\n",
       "    .dataframe thead th {\n",
       "        text-align: right;\n",
       "    }\n",
       "</style>\n",
       "<table border=\"1\" class=\"dataframe\">\n",
       "  <thead>\n",
       "    <tr style=\"text-align: right;\">\n",
       "      <th></th>\n",
       "      <th>month</th>\n",
       "      <th>hour</th>\n",
       "      <th>minutes</th>\n",
       "      <th>attendance</th>\n",
       "      <th>nb_units</th>\n",
       "      <th>adjust_capacity</th>\n",
       "      <th>feels_like</th>\n",
       "      <th>humidity</th>\n",
       "      <th>rain_1h</th>\n",
       "      <th>snow_1h</th>\n",
       "      <th>has_night_show</th>\n",
       "      <th>has_parade_1</th>\n",
       "      <th>has_parade_2</th>\n",
       "      <th>wait_time_max</th>\n",
       "    </tr>\n",
       "  </thead>\n",
       "  <tbody>\n",
       "    <tr>\n",
       "      <th>count</th>\n",
       "      <td>9.000000</td>\n",
       "      <td>9.0</td>\n",
       "      <td>9.000000</td>\n",
       "      <td>9.000000</td>\n",
       "      <td>9.0</td>\n",
       "      <td>9.0</td>\n",
       "      <td>9.000000</td>\n",
       "      <td>9.000000</td>\n",
       "      <td>9.000000</td>\n",
       "      <td>9.0</td>\n",
       "      <td>9.000000</td>\n",
       "      <td>9.000000</td>\n",
       "      <td>9.0</td>\n",
       "      <td>9.000000</td>\n",
       "    </tr>\n",
       "    <tr>\n",
       "      <th>mean</th>\n",
       "      <td>3.222222</td>\n",
       "      <td>20.0</td>\n",
       "      <td>25.000000</td>\n",
       "      <td>42007.555556</td>\n",
       "      <td>2.0</td>\n",
       "      <td>387.5</td>\n",
       "      <td>13.466667</td>\n",
       "      <td>78.333333</td>\n",
       "      <td>0.058889</td>\n",
       "      <td>0.0</td>\n",
       "      <td>0.444444</td>\n",
       "      <td>0.444444</td>\n",
       "      <td>0.0</td>\n",
       "      <td>8.888889</td>\n",
       "    </tr>\n",
       "    <tr>\n",
       "      <th>std</th>\n",
       "      <td>2.635231</td>\n",
       "      <td>0.0</td>\n",
       "      <td>18.371173</td>\n",
       "      <td>7231.268096</td>\n",
       "      <td>0.0</td>\n",
       "      <td>0.0</td>\n",
       "      <td>17.829898</td>\n",
       "      <td>22.135944</td>\n",
       "      <td>0.176667</td>\n",
       "      <td>0.0</td>\n",
       "      <td>0.527046</td>\n",
       "      <td>0.527046</td>\n",
       "      <td>0.0</td>\n",
       "      <td>3.333333</td>\n",
       "    </tr>\n",
       "    <tr>\n",
       "      <th>min</th>\n",
       "      <td>1.000000</td>\n",
       "      <td>20.0</td>\n",
       "      <td>0.000000</td>\n",
       "      <td>35765.000000</td>\n",
       "      <td>2.0</td>\n",
       "      <td>387.5</td>\n",
       "      <td>-2.550000</td>\n",
       "      <td>55.000000</td>\n",
       "      <td>0.000000</td>\n",
       "      <td>0.0</td>\n",
       "      <td>0.000000</td>\n",
       "      <td>0.000000</td>\n",
       "      <td>0.0</td>\n",
       "      <td>0.000000</td>\n",
       "    </tr>\n",
       "    <tr>\n",
       "      <th>25%</th>\n",
       "      <td>1.000000</td>\n",
       "      <td>20.0</td>\n",
       "      <td>15.000000</td>\n",
       "      <td>35765.000000</td>\n",
       "      <td>2.0</td>\n",
       "      <td>387.5</td>\n",
       "      <td>-2.550000</td>\n",
       "      <td>55.000000</td>\n",
       "      <td>0.000000</td>\n",
       "      <td>0.0</td>\n",
       "      <td>0.000000</td>\n",
       "      <td>0.000000</td>\n",
       "      <td>0.0</td>\n",
       "      <td>10.000000</td>\n",
       "    </tr>\n",
       "    <tr>\n",
       "      <th>50%</th>\n",
       "      <td>1.000000</td>\n",
       "      <td>20.0</td>\n",
       "      <td>30.000000</td>\n",
       "      <td>36504.000000</td>\n",
       "      <td>2.0</td>\n",
       "      <td>387.5</td>\n",
       "      <td>2.680000</td>\n",
       "      <td>97.000000</td>\n",
       "      <td>0.000000</td>\n",
       "      <td>0.0</td>\n",
       "      <td>0.000000</td>\n",
       "      <td>0.000000</td>\n",
       "      <td>0.0</td>\n",
       "      <td>10.000000</td>\n",
       "    </tr>\n",
       "    <tr>\n",
       "      <th>75%</th>\n",
       "      <td>6.000000</td>\n",
       "      <td>20.0</td>\n",
       "      <td>45.000000</td>\n",
       "      <td>49626.000000</td>\n",
       "      <td>2.0</td>\n",
       "      <td>387.5</td>\n",
       "      <td>32.180000</td>\n",
       "      <td>97.000000</td>\n",
       "      <td>0.000000</td>\n",
       "      <td>0.0</td>\n",
       "      <td>1.000000</td>\n",
       "      <td>1.000000</td>\n",
       "      <td>0.0</td>\n",
       "      <td>10.000000</td>\n",
       "    </tr>\n",
       "    <tr>\n",
       "      <th>max</th>\n",
       "      <td>6.000000</td>\n",
       "      <td>20.0</td>\n",
       "      <td>45.000000</td>\n",
       "      <td>49626.000000</td>\n",
       "      <td>2.0</td>\n",
       "      <td>387.5</td>\n",
       "      <td>32.180000</td>\n",
       "      <td>97.000000</td>\n",
       "      <td>0.530000</td>\n",
       "      <td>0.0</td>\n",
       "      <td>1.000000</td>\n",
       "      <td>1.000000</td>\n",
       "      <td>0.0</td>\n",
       "      <td>10.000000</td>\n",
       "    </tr>\n",
       "  </tbody>\n",
       "</table>\n",
       "</div>"
      ],
      "text/plain": [
       "          month  hour    minutes    attendance  nb_units  adjust_capacity  \\\n",
       "count  9.000000   9.0   9.000000      9.000000       9.0              9.0   \n",
       "mean   3.222222  20.0  25.000000  42007.555556       2.0            387.5   \n",
       "std    2.635231   0.0  18.371173   7231.268096       0.0              0.0   \n",
       "min    1.000000  20.0   0.000000  35765.000000       2.0            387.5   \n",
       "25%    1.000000  20.0  15.000000  35765.000000       2.0            387.5   \n",
       "50%    1.000000  20.0  30.000000  36504.000000       2.0            387.5   \n",
       "75%    6.000000  20.0  45.000000  49626.000000       2.0            387.5   \n",
       "max    6.000000  20.0  45.000000  49626.000000       2.0            387.5   \n",
       "\n",
       "       feels_like   humidity   rain_1h  snow_1h  has_night_show  has_parade_1  \\\n",
       "count    9.000000   9.000000  9.000000      9.0        9.000000      9.000000   \n",
       "mean    13.466667  78.333333  0.058889      0.0        0.444444      0.444444   \n",
       "std     17.829898  22.135944  0.176667      0.0        0.527046      0.527046   \n",
       "min     -2.550000  55.000000  0.000000      0.0        0.000000      0.000000   \n",
       "25%     -2.550000  55.000000  0.000000      0.0        0.000000      0.000000   \n",
       "50%      2.680000  97.000000  0.000000      0.0        0.000000      0.000000   \n",
       "75%     32.180000  97.000000  0.000000      0.0        1.000000      1.000000   \n",
       "max     32.180000  97.000000  0.530000      0.0        1.000000      1.000000   \n",
       "\n",
       "       has_parade_2  wait_time_max  \n",
       "count           9.0       9.000000  \n",
       "mean            0.0       8.888889  \n",
       "std             0.0       3.333333  \n",
       "min             0.0       0.000000  \n",
       "25%             0.0      10.000000  \n",
       "50%             0.0      10.000000  \n",
       "75%             0.0      10.000000  \n",
       "max             0.0      10.000000  "
      ]
     },
     "execution_count": 88,
     "metadata": {},
     "output_type": "execute_result"
    }
   ],
   "source": [
    "# To Examine the prediction performance of our model\n",
    "e = \"Oz Theatre\"\n",
    "d = \"Saturday\"\n",
    "h = 20\n",
    "a_max = 50000\n",
    "a_min = 30000\n",
    "\n",
    "x = (df[\"entity_description_short\"] == e) & (\n",
    "    df[\"day_of_week\"] == d) & (\n",
    "    df[\"hour\"] == h) & (\n",
    "    df[\"attendance\"] <= a_max) &(\n",
    "    df[\"attendance\"] >= a_min)\n",
    "\n",
    "df[x].describe()"
   ]
  }
 ],
 "metadata": {
  "accelerator": "GPU",
  "colab": {
   "collapsed_sections": [
    "d4f7dc0f",
    "103962aa",
    "a3e4267b",
    "vMneIGw6GD7Y",
    "to3jH9BrIgjN",
    "XxGzD95vGJ03",
    "L59PMmZI_6gM"
   ],
   "gpuType": "T4",
   "provenance": []
  },
  "kernelspec": {
   "display_name": "Python 3 (ipykernel)",
   "language": "python",
   "name": "python3"
  },
  "language_info": {
   "codemirror_mode": {
    "name": "ipython",
    "version": 3
   },
   "file_extension": ".py",
   "mimetype": "text/x-python",
   "name": "python",
   "nbconvert_exporter": "python",
   "pygments_lexer": "ipython3",
   "version": "3.11.5"
  }
 },
 "nbformat": 4,
 "nbformat_minor": 5
}
